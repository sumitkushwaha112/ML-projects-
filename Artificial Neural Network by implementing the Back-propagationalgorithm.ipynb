{
 "cells": [
  {
   "cell_type": "markdown",
   "id": "e73ddb30",
   "metadata": {
    "_cell_guid": "b1076dfc-b9ad-4769-8c92-a6c4dae69d19",
    "_uuid": "8f2839f25d086af736a60e9eeb907d3b93b6e0e5",
    "papermill": {
     "duration": 0.013409,
     "end_time": "2024-11-17T14:40:16.977479",
     "exception": false,
     "start_time": "2024-11-17T14:40:16.964070",
     "status": "completed"
    },
    "tags": []
   },
   "source": [
    "\n",
    "# objective:- Build an Artificial Neural Network by implementing the Back-propagationalgorithm and test the same using appropriate data sets\n",
    "s"
   ]
  },
  {
   "cell_type": "markdown",
   "id": "53786bfd",
   "metadata": {
    "papermill": {
     "duration": 0.010727,
     "end_time": "2024-11-17T14:40:16.999660",
     "exception": false,
     "start_time": "2024-11-17T14:40:16.988933",
     "status": "completed"
    },
    "tags": []
   },
   "source": [
    "# import the necessary libraries"
   ]
  },
  {
   "cell_type": "code",
   "execution_count": 1,
   "id": "72e07765",
   "metadata": {
    "execution": {
     "iopub.execute_input": "2024-11-17T14:40:17.023586Z",
     "iopub.status.busy": "2024-11-17T14:40:17.023157Z",
     "iopub.status.idle": "2024-11-17T14:40:17.035179Z",
     "shell.execute_reply": "2024-11-17T14:40:17.034145Z"
    },
    "papermill": {
     "duration": 0.027058,
     "end_time": "2024-11-17T14:40:17.037901",
     "exception": false,
     "start_time": "2024-11-17T14:40:17.010843",
     "status": "completed"
    },
    "tags": []
   },
   "outputs": [],
   "source": [
    "import random\n",
    "from math import exp\n",
    "from random import seed"
   ]
  },
  {
   "cell_type": "markdown",
   "id": "c8c1a688",
   "metadata": {
    "papermill": {
     "duration": 0.010813,
     "end_time": "2024-11-17T14:40:17.060107",
     "exception": false,
     "start_time": "2024-11-17T14:40:17.049294",
     "status": "completed"
    },
    "tags": []
   },
   "source": [
    "# Initialize a network"
   ]
  },
  {
   "cell_type": "code",
   "execution_count": 2,
   "id": "b1f879ce",
   "metadata": {
    "execution": {
     "iopub.execute_input": "2024-11-17T14:40:17.085294Z",
     "iopub.status.busy": "2024-11-17T14:40:17.084813Z",
     "iopub.status.idle": "2024-11-17T14:40:17.093497Z",
     "shell.execute_reply": "2024-11-17T14:40:17.092449Z"
    },
    "papermill": {
     "duration": 0.023421,
     "end_time": "2024-11-17T14:40:17.095864",
     "exception": false,
     "start_time": "2024-11-17T14:40:17.072443",
     "status": "completed"
    },
    "tags": []
   },
   "outputs": [],
   "source": [
    "def initialize_network(n_inputs, n_hidden, n_outputs):\n",
    "    network = list()\n",
    "    hidden_layer = [{'weights':[random.uniform(-0.5,0.5) for i in range(n_inputs + 1)]} for i in range(n_hidden)]\n",
    "    network.append(hidden_layer)\n",
    "    output_layer = [{'weights':[random.uniform(-0.5,0.5) for i in range(n_hidden + 1)]} for i in range(n_outputs)]\n",
    "    network.append(output_layer)\n",
    "    i= 1\n",
    "    print(\"\\n The initialised Neural Network:\\n\")\n",
    "    for layer in network:\n",
    "        j=1\n",
    "        for sub in layer:\n",
    "            print(\"\\n Layer[%d] Node[%d]:\\n\" %(i,j),sub)\n",
    "            j=j+1\n",
    "        i=i+1\n",
    "    return network"
   ]
  },
  {
   "cell_type": "markdown",
   "id": "62496210",
   "metadata": {
    "papermill": {
     "duration": 0.010733,
     "end_time": "2024-11-17T14:40:17.117741",
     "exception": false,
     "start_time": "2024-11-17T14:40:17.107008",
     "status": "completed"
    },
    "tags": []
   },
   "source": [
    "# Calculate neuron activation (net) for an input"
   ]
  },
  {
   "cell_type": "code",
   "execution_count": 3,
   "id": "92cad2c1",
   "metadata": {
    "execution": {
     "iopub.execute_input": "2024-11-17T14:40:17.141886Z",
     "iopub.status.busy": "2024-11-17T14:40:17.141467Z",
     "iopub.status.idle": "2024-11-17T14:40:17.147734Z",
     "shell.execute_reply": "2024-11-17T14:40:17.146446Z"
    },
    "papermill": {
     "duration": 0.021379,
     "end_time": "2024-11-17T14:40:17.150282",
     "exception": false,
     "start_time": "2024-11-17T14:40:17.128903",
     "status": "completed"
    },
    "tags": []
   },
   "outputs": [],
   "source": [
    "def activate(weights, inputs):\n",
    "    activation = weights[-1]\n",
    "    for i in range(len(weights)-1):\n",
    "        activation += weights[i] * inputs[i]\n",
    "    return activation"
   ]
  },
  {
   "cell_type": "markdown",
   "id": "29b5f9df",
   "metadata": {
    "papermill": {
     "duration": 0.010713,
     "end_time": "2024-11-17T14:40:17.172354",
     "exception": false,
     "start_time": "2024-11-17T14:40:17.161641",
     "status": "completed"
    },
    "tags": []
   },
   "source": [
    "# Transfer neuron activation to sigmoid function "
   ]
  },
  {
   "cell_type": "code",
   "execution_count": 4,
   "id": "768428c8",
   "metadata": {
    "execution": {
     "iopub.execute_input": "2024-11-17T14:40:17.196296Z",
     "iopub.status.busy": "2024-11-17T14:40:17.195814Z",
     "iopub.status.idle": "2024-11-17T14:40:17.201045Z",
     "shell.execute_reply": "2024-11-17T14:40:17.200038Z"
    },
    "papermill": {
     "duration": 0.020117,
     "end_time": "2024-11-17T14:40:17.203441",
     "exception": false,
     "start_time": "2024-11-17T14:40:17.183324",
     "status": "completed"
    },
    "tags": []
   },
   "outputs": [],
   "source": [
    "def transfer(activation):\n",
    "    return 1.0 / (1.0 + exp(-activation))\n",
    " "
   ]
  },
  {
   "cell_type": "markdown",
   "id": "43d764d1",
   "metadata": {
    "papermill": {
     "duration": 0.010677,
     "end_time": "2024-11-17T14:40:17.225496",
     "exception": false,
     "start_time": "2024-11-17T14:40:17.214819",
     "status": "completed"
    },
    "tags": []
   },
   "source": [
    "# Forward propagate input to a network output"
   ]
  },
  {
   "cell_type": "code",
   "execution_count": 5,
   "id": "81b58646",
   "metadata": {
    "execution": {
     "iopub.execute_input": "2024-11-17T14:40:17.250106Z",
     "iopub.status.busy": "2024-11-17T14:40:17.249028Z",
     "iopub.status.idle": "2024-11-17T14:40:17.255646Z",
     "shell.execute_reply": "2024-11-17T14:40:17.254499Z"
    },
    "papermill": {
     "duration": 0.021337,
     "end_time": "2024-11-17T14:40:17.258186",
     "exception": false,
     "start_time": "2024-11-17T14:40:17.236849",
     "status": "completed"
    },
    "tags": []
   },
   "outputs": [],
   "source": [
    "def forward_propagate(network, row):\n",
    "    inputs = row\n",
    "    for layer in network:\n",
    "        new_inputs = []\n",
    "        for neuron in layer:\n",
    "            activation = activate(neuron['weights'], inputs)\n",
    "            neuron['output'] = transfer(activation)\n",
    "            new_inputs.append(neuron['output'])\n",
    "        inputs = new_inputs\n",
    "    return inputs"
   ]
  },
  {
   "cell_type": "markdown",
   "id": "b3f79c2a",
   "metadata": {
    "papermill": {
     "duration": 0.010615,
     "end_time": "2024-11-17T14:40:17.279555",
     "exception": false,
     "start_time": "2024-11-17T14:40:17.268940",
     "status": "completed"
    },
    "tags": []
   },
   "source": [
    "# Calculate the derivative of an neuron output"
   ]
  },
  {
   "cell_type": "code",
   "execution_count": 6,
   "id": "bc7439ba",
   "metadata": {
    "execution": {
     "iopub.execute_input": "2024-11-17T14:40:17.304477Z",
     "iopub.status.busy": "2024-11-17T14:40:17.304034Z",
     "iopub.status.idle": "2024-11-17T14:40:17.309653Z",
     "shell.execute_reply": "2024-11-17T14:40:17.308532Z"
    },
    "papermill": {
     "duration": 0.020246,
     "end_time": "2024-11-17T14:40:17.312119",
     "exception": false,
     "start_time": "2024-11-17T14:40:17.291873",
     "status": "completed"
    },
    "tags": []
   },
   "outputs": [],
   "source": [
    "def transfer_derivative(output):\n",
    "    return output * (1.0 - output)"
   ]
  },
  {
   "cell_type": "markdown",
   "id": "f62d5027",
   "metadata": {
    "papermill": {
     "duration": 0.010388,
     "end_time": "2024-11-17T14:40:17.333685",
     "exception": false,
     "start_time": "2024-11-17T14:40:17.323297",
     "status": "completed"
    },
    "tags": []
   },
   "source": [
    "# Backpropagate error and store in neurons"
   ]
  },
  {
   "cell_type": "code",
   "execution_count": 7,
   "id": "c045c655",
   "metadata": {
    "execution": {
     "iopub.execute_input": "2024-11-17T14:40:17.357098Z",
     "iopub.status.busy": "2024-11-17T14:40:17.356556Z",
     "iopub.status.idle": "2024-11-17T14:40:17.366002Z",
     "shell.execute_reply": "2024-11-17T14:40:17.364893Z"
    },
    "papermill": {
     "duration": 0.024213,
     "end_time": "2024-11-17T14:40:17.368573",
     "exception": false,
     "start_time": "2024-11-17T14:40:17.344360",
     "status": "completed"
    },
    "tags": []
   },
   "outputs": [],
   "source": [
    "def backward_propagate_error(network, expected):\n",
    "    for i in reversed(range(len(network))):\n",
    "        layer = network[i]\n",
    "        errors = list()\n",
    "        \n",
    "        if i != len(network)-1:\n",
    "            for j in range(len(layer)):\n",
    "                error = 0.0\n",
    "                for neuron in network[i + 1]:\n",
    "                    error += (neuron['weights'][j] * neuron['delta'])\n",
    "                errors.append(error)\n",
    "        else:\n",
    "            for j in range(len(layer)):\n",
    "                neuron = layer[j]\n",
    "                errors.append(expected[j] - neuron['output'])\n",
    "        \n",
    "        for j in range(len(layer)):\n",
    "            neuron = layer[j]\n",
    "            neuron['delta'] = errors[j] * transfer_derivative(neuron['output'])"
   ]
  },
  {
   "cell_type": "markdown",
   "id": "523b96aa",
   "metadata": {
    "papermill": {
     "duration": 0.010876,
     "end_time": "2024-11-17T14:40:17.390459",
     "exception": false,
     "start_time": "2024-11-17T14:40:17.379583",
     "status": "completed"
    },
    "tags": []
   },
   "source": [
    "# Update network weights with error"
   ]
  },
  {
   "cell_type": "code",
   "execution_count": 8,
   "id": "8a2f040c",
   "metadata": {
    "execution": {
     "iopub.execute_input": "2024-11-17T14:40:17.414228Z",
     "iopub.status.busy": "2024-11-17T14:40:17.413776Z",
     "iopub.status.idle": "2024-11-17T14:40:17.421236Z",
     "shell.execute_reply": "2024-11-17T14:40:17.420140Z"
    },
    "papermill": {
     "duration": 0.022145,
     "end_time": "2024-11-17T14:40:17.423637",
     "exception": false,
     "start_time": "2024-11-17T14:40:17.401492",
     "status": "completed"
    },
    "tags": []
   },
   "outputs": [],
   "source": [
    "def update_weights(network, row, l_rate):\n",
    "    for i in range(len(network)):\n",
    "        inputs = row[:-1]\n",
    "        if i != 0:\n",
    "            inputs = [neuron['output'] for neuron in network[i - 1]]\n",
    "        for neuron in network[i]:\n",
    "            for j in range(len(inputs)):\n",
    "                neuron['weights'][j] += l_rate * neuron['delta'] * inputs[j]\n",
    "            neuron['weights'][-1] += l_rate * neuron['delta']\n",
    " "
   ]
  },
  {
   "cell_type": "markdown",
   "id": "52900fa5",
   "metadata": {
    "papermill": {
     "duration": 0.010725,
     "end_time": "2024-11-17T14:40:17.445449",
     "exception": false,
     "start_time": "2024-11-17T14:40:17.434724",
     "status": "completed"
    },
    "tags": []
   },
   "source": [
    "# Train a network for a fixed number of epochs"
   ]
  },
  {
   "cell_type": "code",
   "execution_count": 9,
   "id": "7b5ef357",
   "metadata": {
    "execution": {
     "iopub.execute_input": "2024-11-17T14:40:17.469177Z",
     "iopub.status.busy": "2024-11-17T14:40:17.468702Z",
     "iopub.status.idle": "2024-11-17T14:40:17.477236Z",
     "shell.execute_reply": "2024-11-17T14:40:17.476028Z"
    },
    "papermill": {
     "duration": 0.023192,
     "end_time": "2024-11-17T14:40:17.479638",
     "exception": false,
     "start_time": "2024-11-17T14:40:17.456446",
     "status": "completed"
    },
    "tags": []
   },
   "outputs": [],
   "source": [
    "def train_network(network, train, l_rate, n_epoch, n_outputs):\n",
    "   \n",
    "    print(\"\\n Network Training Begins:\\n\")\n",
    "    \n",
    "    for epoch in range(n_epoch):\n",
    "        sum_error = 0\n",
    "        for row in train:\n",
    "            outputs = forward_propagate(network, row)\n",
    "            expected = [0 for i in range(n_outputs)]\n",
    "            expected[row[-1]] = 1\n",
    "            sum_error += sum([(expected[i]-outputs[i])**2 for i in range(len(expected))])\n",
    "            backward_propagate_error(network, expected)\n",
    "            update_weights(network, row, l_rate)\n",
    "        print('>epoch=%d, lrate=%.3f, error=%.3f' % (epoch, l_rate, sum_error))\n",
    "    \n",
    "    print(\"\\n Network Training Ends:\\n\")"
   ]
  },
  {
   "cell_type": "markdown",
   "id": "dcbb5569",
   "metadata": {
    "papermill": {
     "duration": 0.010764,
     "end_time": "2024-11-17T14:40:17.502447",
     "exception": false,
     "start_time": "2024-11-17T14:40:17.491683",
     "status": "completed"
    },
    "tags": []
   },
   "source": [
    "# Test training backprop algorithm"
   ]
  },
  {
   "cell_type": "code",
   "execution_count": 10,
   "id": "258df187",
   "metadata": {
    "execution": {
     "iopub.execute_input": "2024-11-17T14:40:17.527024Z",
     "iopub.status.busy": "2024-11-17T14:40:17.526589Z",
     "iopub.status.idle": "2024-11-17T14:40:17.537654Z",
     "shell.execute_reply": "2024-11-17T14:40:17.535894Z"
    },
    "papermill": {
     "duration": 0.02673,
     "end_time": "2024-11-17T14:40:17.540182",
     "exception": false,
     "start_time": "2024-11-17T14:40:17.513452",
     "status": "completed"
    },
    "tags": []
   },
   "outputs": [
    {
     "name": "stdout",
     "output_type": "stream",
     "text": [
      "\n",
      " The input Data Set :\n",
      " [[2.7810836, 2.550537003, 0], [1.465489372, 2.362125076, 0], [3.396561688, 4.400293529, 0], [1.38807019, 1.850220317, 0], [3.06407232, 3.005305973, 0], [7.627531214, 2.759262235, 1], [5.332441248, 2.088626775, 1], [6.922596716, 1.77106367, 1], [8.675418651, -0.242068655, 1], [7.673756466, 3.508563011, 1]]\n",
      "\n",
      " Number of Inputs :\n",
      " 2\n",
      "\n",
      " Number of Outputs :\n",
      " 2\n"
     ]
    }
   ],
   "source": [
    "seed(2) \n",
    "dataset = [[2.7810836,2.550537003,0],\n",
    "    [1.465489372,2.362125076,0],\n",
    "    [3.396561688,4.400293529,0],\n",
    "    [1.38807019,1.850220317,0],\n",
    "    [3.06407232,3.005305973,0],\n",
    "    [7.627531214,2.759262235,1],\n",
    "    [5.332441248,2.088626775,1],\n",
    "    [6.922596716,1.77106367,1],\n",
    "    [8.675418651,-0.242068655,1],\n",
    "    [7.673756466,3.508563011,1]]\n",
    "\n",
    "print(\"\\n The input Data Set :\\n\",dataset)\n",
    "n_inputs = len(dataset[0]) - 1\n",
    "print(\"\\n Number of Inputs :\\n\",n_inputs)\n",
    "n_outputs = len(set([row[-1] for row in dataset]))\n",
    "print(\"\\n Number of Outputs :\\n\",n_outputs)\n"
   ]
  },
  {
   "cell_type": "markdown",
   "id": "febcaf55",
   "metadata": {
    "papermill": {
     "duration": 0.010922,
     "end_time": "2024-11-17T14:40:17.562337",
     "exception": false,
     "start_time": "2024-11-17T14:40:17.551415",
     "status": "completed"
    },
    "tags": []
   },
   "source": [
    "# Network Initialization"
   ]
  },
  {
   "cell_type": "code",
   "execution_count": 11,
   "id": "23959493",
   "metadata": {
    "execution": {
     "iopub.execute_input": "2024-11-17T14:40:17.586840Z",
     "iopub.status.busy": "2024-11-17T14:40:17.586127Z",
     "iopub.status.idle": "2024-11-17T14:40:17.592421Z",
     "shell.execute_reply": "2024-11-17T14:40:17.591166Z"
    },
    "papermill": {
     "duration": 0.022077,
     "end_time": "2024-11-17T14:40:17.595815",
     "exception": false,
     "start_time": "2024-11-17T14:40:17.573738",
     "status": "completed"
    },
    "tags": []
   },
   "outputs": [
    {
     "name": "stdout",
     "output_type": "stream",
     "text": [
      "\n",
      " The initialised Neural Network:\n",
      "\n",
      "\n",
      " Layer[1] Node[1]:\n",
      " {'weights': [0.4560342718892494, 0.4478274870593494, -0.4434486322731913]}\n",
      "\n",
      " Layer[1] Node[2]:\n",
      " {'weights': [-0.41512800484107837, 0.33549887812944956, 0.2359699890685233]}\n",
      "\n",
      " Layer[2] Node[1]:\n",
      " {'weights': [0.1697304014402209, -0.1918635424108558, 0.10594416567846243]}\n",
      "\n",
      " Layer[2] Node[2]:\n",
      " {'weights': [0.10680173364083789, 0.08120401711200309, -0.3416171297451944]}\n"
     ]
    }
   ],
   "source": [
    "network = initialize_network(n_inputs, 2, n_outputs)"
   ]
  },
  {
   "cell_type": "markdown",
   "id": "7cc02155",
   "metadata": {
    "papermill": {
     "duration": 0.010993,
     "end_time": "2024-11-17T14:40:17.618438",
     "exception": false,
     "start_time": "2024-11-17T14:40:17.607445",
     "status": "completed"
    },
    "tags": []
   },
   "source": [
    "# Training the Network"
   ]
  },
  {
   "cell_type": "code",
   "execution_count": 12,
   "id": "f59ebf6e",
   "metadata": {
    "execution": {
     "iopub.execute_input": "2024-11-17T14:40:17.643759Z",
     "iopub.status.busy": "2024-11-17T14:40:17.643364Z",
     "iopub.status.idle": "2024-11-17T14:40:17.657187Z",
     "shell.execute_reply": "2024-11-17T14:40:17.656049Z"
    },
    "papermill": {
     "duration": 0.030777,
     "end_time": "2024-11-17T14:40:17.660955",
     "exception": false,
     "start_time": "2024-11-17T14:40:17.630178",
     "status": "completed"
    },
    "tags": []
   },
   "outputs": [
    {
     "name": "stdout",
     "output_type": "stream",
     "text": [
      "\n",
      " Network Training Begins:\n",
      "\n",
      ">epoch=0, lrate=0.500, error=5.278\n",
      ">epoch=1, lrate=0.500, error=5.122\n",
      ">epoch=2, lrate=0.500, error=5.006\n",
      ">epoch=3, lrate=0.500, error=4.875\n",
      ">epoch=4, lrate=0.500, error=4.700\n",
      ">epoch=5, lrate=0.500, error=4.466\n",
      ">epoch=6, lrate=0.500, error=4.176\n",
      ">epoch=7, lrate=0.500, error=3.838\n",
      ">epoch=8, lrate=0.500, error=3.469\n",
      ">epoch=9, lrate=0.500, error=3.089\n",
      ">epoch=10, lrate=0.500, error=2.716\n",
      ">epoch=11, lrate=0.500, error=2.367\n",
      ">epoch=12, lrate=0.500, error=2.054\n",
      ">epoch=13, lrate=0.500, error=1.780\n",
      ">epoch=14, lrate=0.500, error=1.546\n",
      ">epoch=15, lrate=0.500, error=1.349\n",
      ">epoch=16, lrate=0.500, error=1.184\n",
      ">epoch=17, lrate=0.500, error=1.045\n",
      ">epoch=18, lrate=0.500, error=0.929\n",
      ">epoch=19, lrate=0.500, error=0.831\n",
      "\n",
      " Network Training Ends:\n",
      "\n",
      "\n",
      " Final Neural Network :\n",
      "\n",
      " Layer[1] Node[1]:\n",
      " {'weights': [0.8642508164347664, -0.8497601716670761, -0.8668929014392035], 'output': 0.9295587965836384, 'delta': 0.005645382825629247}\n",
      "\n",
      " Layer[1] Node[2]:\n",
      " {'weights': [-1.2934302410111027, 1.7109363237151511, 0.7125327507327331], 'output': 0.04760703296164143, 'delta': -0.005928559978815065}\n",
      "\n",
      " Layer[2] Node[1]:\n",
      " {'weights': [-1.3098359335096292, 2.16462207144596, -0.3079052288835877], 'output': 0.1989556395205846, 'delta': -0.03170801648036036}\n",
      "\n",
      " Layer[2] Node[2]:\n",
      " {'weights': [1.5506793402414165, -2.11315950446121, 0.1333585709422027], 'output': 0.8095042653312078, 'delta': 0.029375796661413225}\n"
     ]
    }
   ],
   "source": [
    "train_network(network, dataset, 0.5, 20, n_outputs)\n",
    "\n",
    "\n",
    "print(\"\\n Final Neural Network :\")\n",
    "    \n",
    "i= 1\n",
    "for layer in network:\n",
    "    j=1\n",
    "    for sub in layer:\n",
    "        print(\"\\n Layer[%d] Node[%d]:\\n\" %(i,j),sub)\n",
    "        j=j+1\n",
    "    i=i+1"
   ]
  },
  {
   "cell_type": "markdown",
   "id": "1629a288",
   "metadata": {
    "papermill": {
     "duration": 0.010878,
     "end_time": "2024-11-17T14:40:17.683522",
     "exception": false,
     "start_time": "2024-11-17T14:40:17.672644",
     "status": "completed"
    },
    "tags": []
   },
   "source": [
    "# Predict"
   ]
  },
  {
   "cell_type": "code",
   "execution_count": 13,
   "id": "a6a33df2",
   "metadata": {
    "execution": {
     "iopub.execute_input": "2024-11-17T14:40:17.707665Z",
     "iopub.status.busy": "2024-11-17T14:40:17.707251Z",
     "iopub.status.idle": "2024-11-17T14:40:17.712450Z",
     "shell.execute_reply": "2024-11-17T14:40:17.711285Z"
    },
    "papermill": {
     "duration": 0.020157,
     "end_time": "2024-11-17T14:40:17.715002",
     "exception": false,
     "start_time": "2024-11-17T14:40:17.694845",
     "status": "completed"
    },
    "tags": []
   },
   "outputs": [],
   "source": [
    "from math import exp\n"
   ]
  },
  {
   "cell_type": "markdown",
   "id": "e97f4e60",
   "metadata": {
    "papermill": {
     "duration": 0.011334,
     "end_time": "2024-11-17T14:40:17.738283",
     "exception": false,
     "start_time": "2024-11-17T14:40:17.726949",
     "status": "completed"
    },
    "tags": []
   },
   "source": [
    "# from math import exp\r\n"
   ]
  },
  {
   "cell_type": "code",
   "execution_count": 14,
   "id": "cf5f2eea",
   "metadata": {
    "execution": {
     "iopub.execute_input": "2024-11-17T14:40:17.762976Z",
     "iopub.status.busy": "2024-11-17T14:40:17.762532Z",
     "iopub.status.idle": "2024-11-17T14:40:17.768552Z",
     "shell.execute_reply": "2024-11-17T14:40:17.767503Z"
    },
    "papermill": {
     "duration": 0.021421,
     "end_time": "2024-11-17T14:40:17.771171",
     "exception": false,
     "start_time": "2024-11-17T14:40:17.749750",
     "status": "completed"
    },
    "tags": []
   },
   "outputs": [],
   "source": [
    "def activate(weights, inputs):\n",
    "    activation = weights[-1]\n",
    "    for i in range(len(weights)-1):\n",
    "        activation += weights[i] * inputs[i]\n",
    "    return activation\n"
   ]
  },
  {
   "cell_type": "markdown",
   "id": "8c488470",
   "metadata": {
    "papermill": {
     "duration": 0.010925,
     "end_time": "2024-11-17T14:40:17.793840",
     "exception": false,
     "start_time": "2024-11-17T14:40:17.782915",
     "status": "completed"
    },
    "tags": []
   },
   "source": [
    "# Transfer neuron activation"
   ]
  },
  {
   "cell_type": "code",
   "execution_count": 15,
   "id": "b1d891f4",
   "metadata": {
    "execution": {
     "iopub.execute_input": "2024-11-17T14:40:17.819200Z",
     "iopub.status.busy": "2024-11-17T14:40:17.818746Z",
     "iopub.status.idle": "2024-11-17T14:40:17.823891Z",
     "shell.execute_reply": "2024-11-17T14:40:17.822885Z"
    },
    "papermill": {
     "duration": 0.020358,
     "end_time": "2024-11-17T14:40:17.826234",
     "exception": false,
     "start_time": "2024-11-17T14:40:17.805876",
     "status": "completed"
    },
    "tags": []
   },
   "outputs": [],
   "source": [
    "def transfer(activation):\n",
    "    return 1.0 / (1.0 + exp(-activation))\n"
   ]
  },
  {
   "cell_type": "markdown",
   "id": "a033c79e",
   "metadata": {
    "papermill": {
     "duration": 0.010895,
     "end_time": "2024-11-17T14:40:17.848200",
     "exception": false,
     "start_time": "2024-11-17T14:40:17.837305",
     "status": "completed"
    },
    "tags": []
   },
   "source": [
    "# Forward propagate input to a network output"
   ]
  },
  {
   "cell_type": "code",
   "execution_count": 16,
   "id": "962bfec9",
   "metadata": {
    "execution": {
     "iopub.execute_input": "2024-11-17T14:40:17.873063Z",
     "iopub.status.busy": "2024-11-17T14:40:17.872027Z",
     "iopub.status.idle": "2024-11-17T14:40:17.878835Z",
     "shell.execute_reply": "2024-11-17T14:40:17.877769Z"
    },
    "papermill": {
     "duration": 0.021987,
     "end_time": "2024-11-17T14:40:17.881491",
     "exception": false,
     "start_time": "2024-11-17T14:40:17.859504",
     "status": "completed"
    },
    "tags": []
   },
   "outputs": [],
   "source": [
    "def forward_propagate(network, row):\n",
    "    inputs = row\n",
    "    for layer in network:\n",
    "        new_inputs = []\n",
    "        for neuron in layer:\n",
    "            activation = activate(neuron['weights'], inputs)\n",
    "            neuron['output'] = transfer(activation)\n",
    "            new_inputs.append(neuron['output'])\n",
    "        inputs = new_inputs\n",
    "    return inputs"
   ]
  },
  {
   "cell_type": "markdown",
   "id": "2e125258",
   "metadata": {
    "papermill": {
     "duration": 0.011195,
     "end_time": "2024-11-17T14:40:17.904034",
     "exception": false,
     "start_time": "2024-11-17T14:40:17.892839",
     "status": "completed"
    },
    "tags": []
   },
   "source": [
    "#  Make a prediction with a network"
   ]
  },
  {
   "cell_type": "code",
   "execution_count": 17,
   "id": "f1c8417e",
   "metadata": {
    "execution": {
     "iopub.execute_input": "2024-11-17T14:40:17.928516Z",
     "iopub.status.busy": "2024-11-17T14:40:17.928060Z",
     "iopub.status.idle": "2024-11-17T14:40:17.933472Z",
     "shell.execute_reply": "2024-11-17T14:40:17.932459Z"
    },
    "papermill": {
     "duration": 0.020419,
     "end_time": "2024-11-17T14:40:17.935849",
     "exception": false,
     "start_time": "2024-11-17T14:40:17.915430",
     "status": "completed"
    },
    "tags": []
   },
   "outputs": [],
   "source": [
    "def predict(network, row):\n",
    "    outputs = forward_propagate(network, row)\n",
    "    return outputs.index(max(outputs))\n"
   ]
  },
  {
   "cell_type": "markdown",
   "id": "06ebcbb6",
   "metadata": {
    "papermill": {
     "duration": 0.010829,
     "end_time": "2024-11-17T14:40:17.958071",
     "exception": false,
     "start_time": "2024-11-17T14:40:17.947242",
     "status": "completed"
    },
    "tags": []
   },
   "source": [
    "# Test making predictions with the network"
   ]
  },
  {
   "cell_type": "code",
   "execution_count": 18,
   "id": "13f23272",
   "metadata": {
    "execution": {
     "iopub.execute_input": "2024-11-17T14:40:17.982302Z",
     "iopub.status.busy": "2024-11-17T14:40:17.981836Z",
     "iopub.status.idle": "2024-11-17T14:40:17.988687Z",
     "shell.execute_reply": "2024-11-17T14:40:17.987623Z"
    },
    "papermill": {
     "duration": 0.021648,
     "end_time": "2024-11-17T14:40:17.990886",
     "exception": false,
     "start_time": "2024-11-17T14:40:17.969238",
     "status": "completed"
    },
    "tags": []
   },
   "outputs": [],
   "source": [
    "dataset = [[2.7810836,2.550537003,0],\n",
    "    [1.465489372,2.362125076,0],\n",
    "    [3.396561688,4.400293529,0],\n",
    "    [1.38807019,1.850220317,0],\n",
    "    [3.06407232,3.005305973,0],\n",
    "    [7.627531214,2.759262235,1],\n",
    "    [5.332441248,2.088626775,1],\n",
    "    [6.922596716,1.77106367,1],\n",
    "    [8.675418651,-0.242068655,1],\n",
    "    [7.673756466,3.508563011,1]]"
   ]
  },
  {
   "cell_type": "markdown",
   "id": "3e2d9448",
   "metadata": {
    "papermill": {
     "duration": 0.011137,
     "end_time": "2024-11-17T14:40:18.013208",
     "exception": false,
     "start_time": "2024-11-17T14:40:18.002071",
     "status": "completed"
    },
    "tags": []
   },
   "source": [
    "\n",
    "**#network = [[{'weights': [-1.482313569067226, 1.8308790073202204, 1.078381922048799]}, {'weights': [0.23244990332399884, 0.3621998343835864, 0.40289821191094327]}],#    [{'weights': [2.5001872433501404, 0.7887233511355132, -1.1026649757805829]}, {'weights': [-2.429350576245497, 0.8357651039198697, 1.0699217181280656]}]]**\n",
    "]"
   ]
  },
  {
   "cell_type": "code",
   "execution_count": 19,
   "id": "ca2f5f4f",
   "metadata": {
    "execution": {
     "iopub.execute_input": "2024-11-17T14:40:18.037461Z",
     "iopub.status.busy": "2024-11-17T14:40:18.037008Z",
     "iopub.status.idle": "2024-11-17T14:40:18.043351Z",
     "shell.execute_reply": "2024-11-17T14:40:18.042313Z"
    },
    "papermill": {
     "duration": 0.021343,
     "end_time": "2024-11-17T14:40:18.045839",
     "exception": false,
     "start_time": "2024-11-17T14:40:18.024496",
     "status": "completed"
    },
    "tags": []
   },
   "outputs": [
    {
     "name": "stdout",
     "output_type": "stream",
     "text": [
      "Expected=0, Got=0\n",
      "Expected=0, Got=0\n",
      "Expected=0, Got=0\n",
      "Expected=0, Got=0\n",
      "Expected=0, Got=0\n",
      "Expected=1, Got=1\n",
      "Expected=1, Got=1\n",
      "Expected=1, Got=1\n",
      "Expected=1, Got=1\n",
      "Expected=1, Got=1\n"
     ]
    }
   ],
   "source": [
    "for row in dataset:\n",
    "    prediction = predict(network, row)\n",
    "    print('Expected=%d, Got=%d' % (row[-1], prediction))"
   ]
  },
  {
   "cell_type": "code",
   "execution_count": null,
   "id": "05ad4dc6",
   "metadata": {
    "papermill": {
     "duration": 0.011098,
     "end_time": "2024-11-17T14:40:18.068791",
     "exception": false,
     "start_time": "2024-11-17T14:40:18.057693",
     "status": "completed"
    },
    "tags": []
   },
   "outputs": [],
   "source": []
  }
 ],
 "metadata": {
  "kaggle": {
   "accelerator": "none",
   "dataSources": [
    {
     "datasetId": 6106072,
     "sourceId": 9932987,
     "sourceType": "datasetVersion"
    }
   ],
   "dockerImageVersionId": 30786,
   "isGpuEnabled": false,
   "isInternetEnabled": false,
   "language": "python",
   "sourceType": "notebook"
  },
  "kernelspec": {
   "display_name": "Python 3",
   "language": "python",
   "name": "python3"
  },
  "language_info": {
   "codemirror_mode": {
    "name": "ipython",
    "version": 3
   },
   "file_extension": ".py",
   "mimetype": "text/x-python",
   "name": "python",
   "nbconvert_exporter": "python",
   "pygments_lexer": "ipython3",
   "version": "3.10.14"
  },
  "papermill": {
   "default_parameters": {},
   "duration": 4.398451,
   "end_time": "2024-11-17T14:40:18.401404",
   "environment_variables": {},
   "exception": null,
   "input_path": "__notebook__.ipynb",
   "output_path": "__notebook__.ipynb",
   "parameters": {},
   "start_time": "2024-11-17T14:40:14.002953",
   "version": "2.6.0"
  }
 },
 "nbformat": 4,
 "nbformat_minor": 5
}
