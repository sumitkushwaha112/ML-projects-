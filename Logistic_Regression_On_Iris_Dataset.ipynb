{
  "metadata": {
    "kernelspec": {
      "language": "python",
      "display_name": "Python 3",
      "name": "python3"
    },
    "language_info": {
      "name": "python",
      "version": "3.10.14",
      "mimetype": "text/x-python",
      "codemirror_mode": {
        "name": "ipython",
        "version": 3
      },
      "pygments_lexer": "ipython3",
      "nbconvert_exporter": "python",
      "file_extension": ".py"
    },
    "kaggle": {
      "accelerator": "none",
      "dataSources": [
        {
          "sourceId": 9431691,
          "sourceType": "datasetVersion",
          "datasetId": 5730185
        }
      ],
      "dockerImageVersionId": 30761,
      "isInternetEnabled": false,
      "language": "python",
      "sourceType": "notebook",
      "isGpuEnabled": false
    },
    "colab": {
      "name": "Logistic Regression On Iris Dataset",
      "provenance": [],
      "include_colab_link": true
    }
  },
  "nbformat_minor": 0,
  "nbformat": 4,
  "cells": [
    {
      "cell_type": "markdown",
      "metadata": {
        "id": "view-in-github",
        "colab_type": "text"
      },
      "source": [
        "<a href=\"https://colab.research.google.com/github/sumitkushwaha112/ML-projects-/blob/main/Logistic_Regression_On_Iris_Dataset.ipynb\" target=\"_parent\"><img src=\"https://colab.research.google.com/assets/colab-badge.svg\" alt=\"Open In Colab\"/></a>"
      ]
    },
    {
      "source": [
        "# IMPORTANT: SOME KAGGLE DATA SOURCES ARE PRIVATE\n",
        "# RUN THIS CELL IN ORDER TO IMPORT YOUR KAGGLE DATA SOURCES.\n",
        "import kagglehub\n",
        "kagglehub.login()\n"
      ],
      "metadata": {
        "id": "UBpPYLSJ9qFH"
      },
      "cell_type": "code",
      "outputs": [],
      "execution_count": null
    },
    {
      "source": [
        "# IMPORTANT: RUN THIS CELL IN ORDER TO IMPORT YOUR KAGGLE DATA SOURCES,\n",
        "# THEN FEEL FREE TO DELETE THIS CELL.\n",
        "# NOTE: THIS NOTEBOOK ENVIRONMENT DIFFERS FROM KAGGLE'S PYTHON\n",
        "# ENVIRONMENT SO THERE MAY BE MISSING LIBRARIES USED BY YOUR\n",
        "# NOTEBOOK.\n",
        "import os\n",
        "import shutil\n",
        "\n",
        "sumitsinghkushwaha_iris_dataset_path = kagglehub.dataset_download('sumitsinghkushwaha/iris-dataset')\n",
        "\n",
        "print('Data source import complete.')\n"
      ],
      "metadata": {
        "id": "NnnPRqrl9qFO"
      },
      "cell_type": "code",
      "outputs": [],
      "execution_count": null
    },
    {
      "cell_type": "markdown",
      "source": [
        "**Implement and demonstrate Logistic Regression algorithm on sklearn dataset – Iris Flower to classify species of the flower.**\n",
        "\n",
        "Dataset: https://www.kaggle.com/datasets/arshid/iris-flower-dataset/code"
      ],
      "metadata": {
        "id": "HDFlEx4i9qFP"
      }
    },
    {
      "cell_type": "markdown",
      "source": [
        "# import necessary library"
      ],
      "metadata": {
        "id": "fCrglA0G9qFS"
      }
    },
    {
      "cell_type": "code",
      "source": [
        "#import the necessary libraries\n",
        "import pandas as pd\n",
        "import numpy as np\n",
        "import matplotlib.pyplot as plt\n",
        "import seaborn as sns\n",
        "from sklearn.model_selection import train_test_split\n",
        "from sklearn.linear_model import LogisticRegression\n",
        "from sklearn.metrics import mean_absolute_error, mean_squared_error,r2_score\n",
        "from sklearn.preprocessing import LabelEncoder, OneHotEncoder"
      ],
      "metadata": {
        "execution": {
          "iopub.status.busy": "2024-10-17T05:29:52.33193Z",
          "iopub.execute_input": "2024-10-17T05:29:52.332448Z",
          "iopub.status.idle": "2024-10-17T05:29:55.017949Z",
          "shell.execute_reply.started": "2024-10-17T05:29:52.332388Z",
          "shell.execute_reply": "2024-10-17T05:29:55.016554Z"
        },
        "trusted": true,
        "id": "nLT0fT7-9qFT"
      },
      "execution_count": null,
      "outputs": []
    },
    {
      "cell_type": "code",
      "source": [
        "#load the dataset\n",
        "df=pd.read_csv(\"/kaggle/input/iris-dataset/IRIS.csv\")"
      ],
      "metadata": {
        "execution": {
          "iopub.status.busy": "2024-10-17T05:29:55.020273Z",
          "iopub.execute_input": "2024-10-17T05:29:55.021397Z",
          "iopub.status.idle": "2024-10-17T05:29:55.041064Z",
          "shell.execute_reply.started": "2024-10-17T05:29:55.021345Z",
          "shell.execute_reply": "2024-10-17T05:29:55.039843Z"
        },
        "trusted": true,
        "id": "0yaQZY7_9qFU"
      },
      "execution_count": null,
      "outputs": []
    },
    {
      "cell_type": "code",
      "source": [
        "# Display the first few rows of the dataframe\n",
        "df.head()"
      ],
      "metadata": {
        "execution": {
          "iopub.status.busy": "2024-10-17T05:29:55.042971Z",
          "iopub.execute_input": "2024-10-17T05:29:55.04349Z",
          "iopub.status.idle": "2024-10-17T05:29:55.076217Z",
          "shell.execute_reply.started": "2024-10-17T05:29:55.043426Z",
          "shell.execute_reply": "2024-10-17T05:29:55.075071Z"
        },
        "trusted": true,
        "id": "zzPrep9V9qFU"
      },
      "execution_count": null,
      "outputs": []
    },
    {
      "cell_type": "code",
      "source": [
        "# Display the last few rows of the dataframe\n",
        "df.tail()"
      ],
      "metadata": {
        "execution": {
          "iopub.status.busy": "2024-10-17T05:29:55.078705Z",
          "iopub.execute_input": "2024-10-17T05:29:55.079493Z",
          "iopub.status.idle": "2024-10-17T05:29:55.094857Z",
          "shell.execute_reply.started": "2024-10-17T05:29:55.079449Z",
          "shell.execute_reply": "2024-10-17T05:29:55.093555Z"
        },
        "trusted": true,
        "id": "vC-I1nIe9qFV"
      },
      "execution_count": null,
      "outputs": []
    },
    {
      "cell_type": "code",
      "source": [
        "df.shape"
      ],
      "metadata": {
        "execution": {
          "iopub.status.busy": "2024-10-17T05:29:55.096137Z",
          "iopub.execute_input": "2024-10-17T05:29:55.09655Z",
          "iopub.status.idle": "2024-10-17T05:29:55.105913Z",
          "shell.execute_reply.started": "2024-10-17T05:29:55.096493Z",
          "shell.execute_reply": "2024-10-17T05:29:55.104679Z"
        },
        "trusted": true,
        "id": "rP3YI6k89qFW"
      },
      "execution_count": null,
      "outputs": []
    },
    {
      "cell_type": "code",
      "source": [
        "#Check for any missing values in the dataset\n",
        "##df.isnull(): Checks for missing values in each column.\n",
        "df.isnull()"
      ],
      "metadata": {
        "execution": {
          "iopub.status.busy": "2024-10-17T05:29:55.10881Z",
          "iopub.execute_input": "2024-10-17T05:29:55.109295Z",
          "iopub.status.idle": "2024-10-17T05:29:55.129949Z",
          "shell.execute_reply.started": "2024-10-17T05:29:55.109239Z",
          "shell.execute_reply": "2024-10-17T05:29:55.128694Z"
        },
        "trusted": true,
        "id": "gH0mG5599qFW"
      },
      "execution_count": null,
      "outputs": []
    },
    {
      "cell_type": "code",
      "source": [
        "df.isnull().sum()"
      ],
      "metadata": {
        "execution": {
          "iopub.status.busy": "2024-10-17T05:29:55.131862Z",
          "iopub.execute_input": "2024-10-17T05:29:55.1323Z",
          "iopub.status.idle": "2024-10-17T05:29:55.14385Z",
          "shell.execute_reply.started": "2024-10-17T05:29:55.132246Z",
          "shell.execute_reply": "2024-10-17T05:29:55.142415Z"
        },
        "trusted": true,
        "id": "nZKEHS809qFW"
      },
      "execution_count": null,
      "outputs": []
    },
    {
      "cell_type": "code",
      "source": [
        "df.info()"
      ],
      "metadata": {
        "execution": {
          "iopub.status.busy": "2024-10-17T05:29:55.145492Z",
          "iopub.execute_input": "2024-10-17T05:29:55.145955Z",
          "iopub.status.idle": "2024-10-17T05:29:55.171435Z",
          "shell.execute_reply.started": "2024-10-17T05:29:55.145901Z",
          "shell.execute_reply": "2024-10-17T05:29:55.170085Z"
        },
        "trusted": true,
        "id": "2F6VrzCv9qFX"
      },
      "execution_count": null,
      "outputs": []
    },
    {
      "cell_type": "code",
      "source": [
        "#Display the summary statistics of the dataset\n",
        "##df.describe(): Provides a summary of statistics for each numerical column in the DataFrame.\n",
        "df.describe()"
      ],
      "metadata": {
        "execution": {
          "iopub.status.busy": "2024-10-17T05:29:55.173072Z",
          "iopub.execute_input": "2024-10-17T05:29:55.174087Z",
          "iopub.status.idle": "2024-10-17T05:29:55.206294Z",
          "shell.execute_reply.started": "2024-10-17T05:29:55.174031Z",
          "shell.execute_reply": "2024-10-17T05:29:55.204968Z"
        },
        "trusted": true,
        "id": "RtjYFC6a9qFX"
      },
      "execution_count": null,
      "outputs": []
    },
    {
      "cell_type": "code",
      "source": [
        "sns.pairplot(df)"
      ],
      "metadata": {
        "execution": {
          "iopub.status.busy": "2024-10-17T05:29:55.210973Z",
          "iopub.execute_input": "2024-10-17T05:29:55.211494Z",
          "iopub.status.idle": "2024-10-17T05:30:00.972125Z",
          "shell.execute_reply.started": "2024-10-17T05:29:55.211453Z",
          "shell.execute_reply": "2024-10-17T05:30:00.970723Z"
        },
        "trusted": true,
        "id": "eN9lWvjf9qFX"
      },
      "execution_count": null,
      "outputs": []
    },
    {
      "cell_type": "code",
      "source": [
        "summary_stats=df.describe()\n",
        "print(summary_stats)"
      ],
      "metadata": {
        "execution": {
          "iopub.status.busy": "2024-10-17T05:30:00.973497Z",
          "iopub.execute_input": "2024-10-17T05:30:00.973876Z",
          "iopub.status.idle": "2024-10-17T05:30:00.993941Z",
          "shell.execute_reply.started": "2024-10-17T05:30:00.973837Z",
          "shell.execute_reply": "2024-10-17T05:30:00.992737Z"
        },
        "trusted": true,
        "id": "mpnXINxS9qFY"
      },
      "execution_count": null,
      "outputs": []
    },
    {
      "cell_type": "code",
      "source": [
        "#visualize the distribution of the target variable\n",
        "for column in df.columns:\n",
        "    plt.figure(figsize=(10,6))\n",
        "    sns.histplot(df[column],kde=True)\n",
        "    plt.title(f'Distribution of {column}',fontsize=14)\n",
        "    plt.xlabel(column)\n",
        "    plt.ylabel('Frequency')\n",
        "    plt.show()"
      ],
      "metadata": {
        "execution": {
          "iopub.status.busy": "2024-10-17T05:30:00.99543Z",
          "iopub.execute_input": "2024-10-17T05:30:00.995824Z",
          "iopub.status.idle": "2024-10-17T05:30:02.785276Z",
          "shell.execute_reply.started": "2024-10-17T05:30:00.995783Z",
          "shell.execute_reply": "2024-10-17T05:30:02.784032Z"
        },
        "trusted": true,
        "id": "Vw0hjuEQ9qFY"
      },
      "execution_count": null,
      "outputs": []
    },
    {
      "cell_type": "code",
      "source": [
        "# Plot histograms for each feature\n",
        "df.hist(figsize=(12,8),bins=20)\n",
        "plt.suptitle('Distribution of Each Feature',fontsize=16)\n",
        "plt.show()"
      ],
      "metadata": {
        "execution": {
          "iopub.status.busy": "2024-10-17T05:30:02.78688Z",
          "iopub.execute_input": "2024-10-17T05:30:02.787372Z",
          "iopub.status.idle": "2024-10-17T05:30:03.882684Z",
          "shell.execute_reply.started": "2024-10-17T05:30:02.787318Z",
          "shell.execute_reply": "2024-10-17T05:30:03.88123Z"
        },
        "trusted": true,
        "id": "PhOjirkL9qFY"
      },
      "execution_count": null,
      "outputs": []
    },
    {
      "cell_type": "code",
      "source": [
        "#plot boxplots for each feature in the dataset\n",
        "plt.figure(figsize=(10,5))\n",
        "sns.boxplot(df)\n",
        "plt.title('Boxplot of each feature')\n",
        "plt.xticks(rotation=45)\n",
        "plt.show()"
      ],
      "metadata": {
        "execution": {
          "iopub.status.busy": "2024-10-17T05:30:03.8845Z",
          "iopub.execute_input": "2024-10-17T05:30:03.884901Z",
          "iopub.status.idle": "2024-10-17T05:30:04.239115Z",
          "shell.execute_reply.started": "2024-10-17T05:30:03.88486Z",
          "shell.execute_reply": "2024-10-17T05:30:04.237872Z"
        },
        "trusted": true,
        "id": "plj7Q1A-9qFY"
      },
      "execution_count": null,
      "outputs": []
    },
    {
      "cell_type": "code",
      "source": [
        "print(df.dtypes)"
      ],
      "metadata": {
        "execution": {
          "iopub.status.busy": "2024-10-17T05:30:04.240446Z",
          "iopub.execute_input": "2024-10-17T05:30:04.240802Z",
          "iopub.status.idle": "2024-10-17T05:30:04.248427Z",
          "shell.execute_reply.started": "2024-10-17T05:30:04.240765Z",
          "shell.execute_reply": "2024-10-17T05:30:04.247228Z"
        },
        "trusted": true,
        "id": "eBhGIR4_9qFY"
      },
      "execution_count": null,
      "outputs": []
    },
    {
      "cell_type": "code",
      "source": [
        "from sklearn.preprocessing import LabelEncoder\n",
        "label_encoder=LabelEncoder()\n",
        "df['species']=label_encoder.fit_transform(df['species'])\n",
        "df.head()"
      ],
      "metadata": {
        "execution": {
          "iopub.status.busy": "2024-10-17T05:30:04.249739Z",
          "iopub.execute_input": "2024-10-17T05:30:04.250178Z",
          "iopub.status.idle": "2024-10-17T05:30:04.2726Z",
          "shell.execute_reply.started": "2024-10-17T05:30:04.250126Z",
          "shell.execute_reply": "2024-10-17T05:30:04.27121Z"
        },
        "trusted": true,
        "id": "0KYYS8Jh9qFY"
      },
      "execution_count": null,
      "outputs": []
    },
    {
      "cell_type": "code",
      "source": [
        "#Calculate the correlation matrix\n",
        "##df.corr(): Computes the correlation matrix for the DataFrame, showing the correlation coefficients between variables.\n",
        "tc=df.corr()"
      ],
      "metadata": {
        "execution": {
          "iopub.status.busy": "2024-10-17T05:30:04.274799Z",
          "iopub.execute_input": "2024-10-17T05:30:04.275336Z",
          "iopub.status.idle": "2024-10-17T05:30:04.282591Z",
          "shell.execute_reply.started": "2024-10-17T05:30:04.27528Z",
          "shell.execute_reply": "2024-10-17T05:30:04.28136Z"
        },
        "trusted": true,
        "id": "DHmPLZyC9qFZ"
      },
      "execution_count": null,
      "outputs": []
    },
    {
      "cell_type": "code",
      "source": [
        "tc"
      ],
      "metadata": {
        "execution": {
          "iopub.status.busy": "2024-10-17T05:30:04.284454Z",
          "iopub.execute_input": "2024-10-17T05:30:04.28533Z",
          "iopub.status.idle": "2024-10-17T05:30:04.304035Z",
          "shell.execute_reply.started": "2024-10-17T05:30:04.285275Z",
          "shell.execute_reply": "2024-10-17T05:30:04.302562Z"
        },
        "trusted": true,
        "id": "IVTJ61_19qFZ"
      },
      "execution_count": null,
      "outputs": []
    },
    {
      "cell_type": "code",
      "source": [
        "#Select the features and the target variable\n",
        "#df.drop(): Removes the target variable 'species' from the features DataFrame X.\n",
        "#df['species']: Selects the target variable y.\n",
        "\n",
        "# Select the features and the target variable\n",
        "x=df.drop('species',axis=1)\n",
        "y=df['species']"
      ],
      "metadata": {
        "execution": {
          "iopub.status.busy": "2024-10-17T05:30:04.305628Z",
          "iopub.execute_input": "2024-10-17T05:30:04.306079Z",
          "iopub.status.idle": "2024-10-17T05:30:04.317514Z",
          "shell.execute_reply.started": "2024-10-17T05:30:04.306022Z",
          "shell.execute_reply": "2024-10-17T05:30:04.316156Z"
        },
        "trusted": true,
        "id": "giquSNAZ9qFZ"
      },
      "execution_count": null,
      "outputs": []
    },
    {
      "cell_type": "code",
      "source": [
        "#Visualize the correlation matrix using a heatmap\n",
        "##sns.heatmap(): Creates a heatmap to visualize the correlation matrix.\n",
        "##annot=True: Displays the correlation coefficient values in the heatmap.\n",
        "##cmap='coolwarm': Sets the color map for the heatmap.\n",
        "plt.figure(figsize=(10,5))\n",
        "tc=df.corr().round(2)\n",
        "sns.heatmap(tc,annot=True,cmap='coolwarm')"
      ],
      "metadata": {
        "execution": {
          "iopub.status.busy": "2024-10-17T05:30:04.319117Z",
          "iopub.execute_input": "2024-10-17T05:30:04.319549Z",
          "iopub.status.idle": "2024-10-17T05:30:04.916408Z",
          "shell.execute_reply.started": "2024-10-17T05:30:04.319507Z",
          "shell.execute_reply": "2024-10-17T05:30:04.914964Z"
        },
        "trusted": true,
        "id": "j9fHpemq9qFZ"
      },
      "execution_count": null,
      "outputs": []
    },
    {
      "cell_type": "code",
      "source": [
        "from sklearn.model_selection import train_test_split\n",
        "x_train,x_test,y_train,y_test=train_test_split(x,y,test_size=0.25,random_state=0)"
      ],
      "metadata": {
        "execution": {
          "iopub.status.busy": "2024-10-17T05:30:04.918185Z",
          "iopub.execute_input": "2024-10-17T05:30:04.918714Z",
          "iopub.status.idle": "2024-10-17T05:30:04.930222Z",
          "shell.execute_reply.started": "2024-10-17T05:30:04.918659Z",
          "shell.execute_reply": "2024-10-17T05:30:04.928942Z"
        },
        "trusted": true,
        "id": "NWT6KlFM9qFZ"
      },
      "execution_count": null,
      "outputs": []
    },
    {
      "cell_type": "code",
      "source": [
        "\n",
        "from sklearn import metrics\n",
        "model=LogisticRegression()\n",
        "model.fit(x_train,y_train)\n",
        "prediction=model.predict(x_test)\n",
        "print('The accuracy of the logistic regression is:',metrics.accuracy_score(prediction,y_test))"
      ],
      "metadata": {
        "execution": {
          "iopub.status.busy": "2024-10-17T05:30:04.931885Z",
          "iopub.execute_input": "2024-10-17T05:30:04.932341Z",
          "iopub.status.idle": "2024-10-17T05:30:04.975788Z",
          "shell.execute_reply.started": "2024-10-17T05:30:04.9323Z",
          "shell.execute_reply": "2024-10-17T05:30:04.974596Z"
        },
        "trusted": true,
        "id": "7pIKJs0h9qFa"
      },
      "execution_count": null,
      "outputs": []
    },
    {
      "cell_type": "code",
      "source": [
        "model.score(x_train,y_train)*100"
      ],
      "metadata": {
        "execution": {
          "iopub.status.busy": "2024-10-17T05:30:04.977398Z",
          "iopub.execute_input": "2024-10-17T05:30:04.97786Z",
          "iopub.status.idle": "2024-10-17T05:30:04.989905Z",
          "shell.execute_reply.started": "2024-10-17T05:30:04.977819Z",
          "shell.execute_reply": "2024-10-17T05:30:04.988551Z"
        },
        "trusted": true,
        "id": "jL-S65XH9qFa"
      },
      "execution_count": null,
      "outputs": []
    },
    {
      "cell_type": "code",
      "source": [
        "model.score(x_test,y_test)*100"
      ],
      "metadata": {
        "execution": {
          "iopub.status.busy": "2024-10-17T05:30:04.991567Z",
          "iopub.execute_input": "2024-10-17T05:30:04.991979Z",
          "iopub.status.idle": "2024-10-17T05:30:05.004565Z",
          "shell.execute_reply.started": "2024-10-17T05:30:04.991939Z",
          "shell.execute_reply": "2024-10-17T05:30:05.003222Z"
        },
        "trusted": true,
        "id": "K6DLxW5J9qFa"
      },
      "execution_count": null,
      "outputs": []
    },
    {
      "cell_type": "code",
      "source": [
        "mae= mean_absolute_error(y_test,y_pred)\n",
        "mse= mean_squared_error(y_test,y_pred)\n",
        "rmse=np.sqrt(mse)\n",
        "print(\"Mean Absolute Error(MAE):\",mae)\n",
        "print(\"Mean Squared Error(MAE):\",mse)\n",
        "print(\"Root Mean Squared Error(RMSE):\",rmse)"
      ],
      "metadata": {
        "execution": {
          "iopub.status.busy": "2024-10-17T05:30:05.006178Z",
          "iopub.execute_input": "2024-10-17T05:30:05.00724Z",
          "iopub.status.idle": "2024-10-17T05:30:05.521854Z",
          "shell.execute_reply.started": "2024-10-17T05:30:05.00718Z",
          "shell.execute_reply": "2024-10-17T05:30:05.51933Z"
        },
        "trusted": true,
        "id": "iUyiN4dN9qFa"
      },
      "execution_count": null,
      "outputs": []
    },
    {
      "cell_type": "code",
      "source": [
        "from sklearn.svm import SVC\n",
        "svc=SVC()\n",
        "svc.fit(x_train,y_train)\n",
        "prediction=svc.predict(x_test)\n",
        "print('The accuracy of the SVC is:',metrics.accuracy_score(prediction,y_test))"
      ],
      "metadata": {
        "execution": {
          "iopub.status.busy": "2024-10-17T05:30:05.522865Z",
          "iopub.status.idle": "2024-10-17T05:30:05.523313Z",
          "shell.execute_reply.started": "2024-10-17T05:30:05.523098Z",
          "shell.execute_reply": "2024-10-17T05:30:05.52312Z"
        },
        "trusted": true,
        "id": "TnhaTEXY9qFa"
      },
      "execution_count": null,
      "outputs": []
    },
    {
      "cell_type": "code",
      "source": [
        "print(\"Coefficients\",model.coef_)\n",
        "print(\"Intercept:\",model.intercept_)"
      ],
      "metadata": {
        "execution": {
          "iopub.status.busy": "2024-10-17T05:30:05.524675Z",
          "iopub.status.idle": "2024-10-17T05:30:05.525216Z",
          "shell.execute_reply.started": "2024-10-17T05:30:05.524952Z",
          "shell.execute_reply": "2024-10-17T05:30:05.524982Z"
        },
        "trusted": true,
        "id": "cKJ4XWoW9qFc"
      },
      "execution_count": null,
      "outputs": []
    },
    {
      "cell_type": "code",
      "source": [
        "y_pred=model.predict(x_test)\n",
        "print(y_pred)"
      ],
      "metadata": {
        "execution": {
          "iopub.status.busy": "2024-10-17T05:30:05.526578Z",
          "iopub.status.idle": "2024-10-17T05:30:05.52712Z",
          "shell.execute_reply.started": "2024-10-17T05:30:05.526855Z",
          "shell.execute_reply": "2024-10-17T05:30:05.526883Z"
        },
        "trusted": true,
        "id": "Ti_qopsp9qFd"
      },
      "execution_count": null,
      "outputs": []
    },
    {
      "cell_type": "code",
      "source": [
        "mae= mean_absolute_error(y_test,y_pred)\n",
        "mse= mean_squared_error(y_test,y_pred)\n",
        "rmse=np.sqrt(mse)\n",
        "print(\"Mean Absolute Error(MAE):\",mae)\n",
        "print(\"Mean Squared Error(MAE):\",mse)\n",
        "print(\"Root Mean Squared Error(RMSE):\",rmse)"
      ],
      "metadata": {
        "execution": {
          "iopub.status.busy": "2024-10-17T05:30:05.528448Z",
          "iopub.status.idle": "2024-10-17T05:30:05.529011Z",
          "shell.execute_reply.started": "2024-10-17T05:30:05.528723Z",
          "shell.execute_reply": "2024-10-17T05:30:05.528752Z"
        },
        "trusted": true,
        "id": "bYkx-Dmc9qFe"
      },
      "execution_count": null,
      "outputs": []
    },
    {
      "cell_type": "code",
      "source": [
        "R2_score=model.score(x,y)"
      ],
      "metadata": {
        "execution": {
          "iopub.status.busy": "2024-10-17T05:30:05.531544Z",
          "iopub.status.idle": "2024-10-17T05:30:05.532142Z",
          "shell.execute_reply.started": "2024-10-17T05:30:05.531825Z",
          "shell.execute_reply": "2024-10-17T05:30:05.531855Z"
        },
        "trusted": true,
        "id": "cKxVduGC9qFe"
      },
      "execution_count": null,
      "outputs": []
    },
    {
      "cell_type": "code",
      "source": [
        "R2_score"
      ],
      "metadata": {
        "execution": {
          "iopub.status.busy": "2024-10-17T05:30:05.533529Z",
          "iopub.status.idle": "2024-10-17T05:30:05.533941Z",
          "shell.execute_reply.started": "2024-10-17T05:30:05.533736Z",
          "shell.execute_reply": "2024-10-17T05:30:05.533757Z"
        },
        "trusted": true,
        "id": "RkvqY2Sc9qFf"
      },
      "execution_count": null,
      "outputs": []
    },
    {
      "cell_type": "code",
      "source": [
        "from sklearn.svm import SVC\n",
        "svc=SVC()\n",
        "svc.fit(x_train,y_train)\n",
        "prediction=svc.predict(x_test)\n",
        "print('The accuracy of the SVC is:',metrics.accuracy_score(prediction,y_test))"
      ],
      "metadata": {
        "execution": {
          "iopub.status.busy": "2024-10-17T05:30:05.535233Z",
          "iopub.status.idle": "2024-10-17T05:30:05.53564Z",
          "shell.execute_reply.started": "2024-10-17T05:30:05.535437Z",
          "shell.execute_reply": "2024-10-17T05:30:05.535458Z"
        },
        "trusted": true,
        "id": "OhaKDsHb9qFf"
      },
      "execution_count": null,
      "outputs": []
    },
    {
      "cell_type": "code",
      "source": [
        "from sklearn.metrics import classification_report\n",
        "from sklearn.metrics import confusion_matrix\n",
        "cm=confusion_matrix(y_test, y_pred)\n",
        "print('Confusion matrix, without normalization')\n",
        "print(cm)"
      ],
      "metadata": {
        "execution": {
          "iopub.status.busy": "2024-10-17T05:30:05.536922Z",
          "iopub.status.idle": "2024-10-17T05:30:05.537381Z",
          "shell.execute_reply.started": "2024-10-17T05:30:05.53717Z",
          "shell.execute_reply": "2024-10-17T05:30:05.537193Z"
        },
        "trusted": true,
        "id": "bhZh0NLh9qFf"
      },
      "execution_count": null,
      "outputs": []
    },
    {
      "cell_type": "code",
      "source": [
        "from sklearn.metrics import classification_report\n",
        "print(classification_report(y_test, y_pred, target_names=['Class0','Class1','Class2']))"
      ],
      "metadata": {
        "execution": {
          "iopub.status.busy": "2024-10-17T05:30:05.539077Z",
          "iopub.status.idle": "2024-10-17T05:30:05.539492Z",
          "shell.execute_reply.started": "2024-10-17T05:30:05.53928Z",
          "shell.execute_reply": "2024-10-17T05:30:05.539301Z"
        },
        "trusted": true,
        "id": "mV7h8Zg79qFf"
      },
      "execution_count": null,
      "outputs": []
    },
    {
      "cell_type": "code",
      "source": [],
      "metadata": {
        "id": "bo3WqXG49qFf"
      },
      "execution_count": null,
      "outputs": []
    }
  ]
}