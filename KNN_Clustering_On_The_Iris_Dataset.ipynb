{
  "metadata": {
    "kernelspec": {
      "language": "python",
      "display_name": "Python 3",
      "name": "python3"
    },
    "language_info": {
      "name": "python",
      "version": "3.10.14",
      "mimetype": "text/x-python",
      "codemirror_mode": {
        "name": "ipython",
        "version": 3
      },
      "pygments_lexer": "ipython3",
      "nbconvert_exporter": "python",
      "file_extension": ".py"
    },
    "kaggle": {
      "accelerator": "none",
      "dataSources": [
        {
          "sourceId": 9651279,
          "sourceType": "datasetVersion",
          "datasetId": 5895092
        }
      ],
      "dockerImageVersionId": 30786,
      "isInternetEnabled": false,
      "language": "python",
      "sourceType": "notebook",
      "isGpuEnabled": false
    },
    "colab": {
      "name": "KNN Clustering On The Iris Dataset",
      "provenance": [],
      "include_colab_link": true
    }
  },
  "nbformat_minor": 0,
  "nbformat": 4,
  "cells": [
    {
      "cell_type": "markdown",
      "metadata": {
        "id": "view-in-github",
        "colab_type": "text"
      },
      "source": [
        "<a href=\"https://colab.research.google.com/github/sumitkushwaha112/ML-projects-/blob/main/KNN_Clustering_On_The_Iris_Dataset.ipynb\" target=\"_parent\"><img src=\"https://colab.research.google.com/assets/colab-badge.svg\" alt=\"Open In Colab\"/></a>"
      ]
    },
    {
      "source": [
        "# IMPORTANT: SOME KAGGLE DATA SOURCES ARE PRIVATE\n",
        "# RUN THIS CELL IN ORDER TO IMPORT YOUR KAGGLE DATA SOURCES.\n",
        "import kagglehub\n",
        "kagglehub.login()\n"
      ],
      "metadata": {
        "id": "HQL58yrp6wTu"
      },
      "cell_type": "code",
      "outputs": [],
      "execution_count": null
    },
    {
      "source": [
        "# IMPORTANT: RUN THIS CELL IN ORDER TO IMPORT YOUR KAGGLE DATA SOURCES,\n",
        "# THEN FEEL FREE TO DELETE THIS CELL.\n",
        "# NOTE: THIS NOTEBOOK ENVIRONMENT DIFFERS FROM KAGGLE'S PYTHON\n",
        "# ENVIRONMENT SO THERE MAY BE MISSING LIBRARIES USED BY YOUR\n",
        "# NOTEBOOK.\n",
        "import os\n",
        "import shutil\n",
        "\n",
        "sumitsinghkushwaha_knn_clustering_iris_dataset_path = kagglehub.dataset_download('sumitsinghkushwaha/knn-clustering-iris-dataset')\n",
        "\n",
        "print('Data source import complete.')\n"
      ],
      "metadata": {
        "id": "eBcMSbJK6wTz"
      },
      "cell_type": "code",
      "outputs": [],
      "execution_count": null
    },
    {
      "cell_type": "markdown",
      "source": [
        "# KNN Clustering on the Iris Dataset"
      ],
      "metadata": {
        "id": "qsk0sjwc6wT1"
      }
    },
    {
      "cell_type": "markdown",
      "source": [
        "**To implement and demonstrate K-Nearest Neighbors (KNN) clustering for grouping similar types of flowers using the Iris dataset. We will also visualize the clusters and evaluate model performance using silhouette scores.**\n",
        "\n",
        "**Dataset:** https://www.kaggle.com/datasets/arshid/iris-flower-dataset/code"
      ],
      "metadata": {
        "id": "SwFIsGix6wT3"
      }
    },
    {
      "cell_type": "markdown",
      "source": [
        "# import necessary libraries"
      ],
      "metadata": {
        "id": "y3v8l5_N6wT5"
      }
    },
    {
      "cell_type": "code",
      "source": [
        "import numpy as np\n",
        "import pandas as pd\n",
        "import matplotlib.pyplot as plt\n",
        "import seaborn as sns\n",
        "from sklearn.datasets import load_iris\n",
        "from sklearn.model_selection import train_test_split\n",
        "from sklearn.preprocessing import StandardScaler\n",
        "from sklearn.neighbors import KNeighborsClassifier\n",
        "from sklearn.metrics import silhouette_score\n",
        "from sklearn.decomposition import PCA\n",
        "from sklearn.preprocessing import LabelEncoder\n",
        "from sklearn.cluster import KMeans\n",
        "%matplotlib inline\n",
        "import warnings\n",
        "warnings.filterwarnings('ignore')\n",
        "from sklearn.preprocessing import MinMaxScaler\n"
      ],
      "metadata": {
        "_uuid": "8f2839f25d086af736a60e9eeb907d3b93b6e0e5",
        "_cell_guid": "b1076dfc-b9ad-4769-8c92-a6c4dae69d19",
        "execution": {
          "iopub.status.busy": "2024-10-17T14:29:13.066208Z",
          "iopub.execute_input": "2024-10-17T14:29:13.066644Z",
          "iopub.status.idle": "2024-10-17T14:29:13.198744Z",
          "shell.execute_reply.started": "2024-10-17T14:29:13.066604Z",
          "shell.execute_reply": "2024-10-17T14:29:13.197517Z"
        },
        "trusted": true,
        "id": "M1ILzSXi6wT6"
      },
      "execution_count": null,
      "outputs": []
    },
    {
      "cell_type": "code",
      "source": [
        "# Load the dataset\n",
        "df = pd.read_csv('/kaggle/input/knn-clustering-iris-dataset/IRIS (2).csv')"
      ],
      "metadata": {
        "execution": {
          "iopub.status.busy": "2024-10-17T14:29:15.745974Z",
          "iopub.execute_input": "2024-10-17T14:29:15.746389Z",
          "iopub.status.idle": "2024-10-17T14:29:15.765966Z",
          "shell.execute_reply.started": "2024-10-17T14:29:15.746351Z",
          "shell.execute_reply": "2024-10-17T14:29:15.764606Z"
        },
        "trusted": true,
        "id": "dbxHmpbL6wT9"
      },
      "execution_count": null,
      "outputs": []
    },
    {
      "cell_type": "code",
      "source": [
        "# Display the first few rows of the dataset to understand its structure\n",
        "df.head()"
      ],
      "metadata": {
        "execution": {
          "iopub.status.busy": "2024-10-17T14:29:16.516408Z",
          "iopub.execute_input": "2024-10-17T14:29:16.517555Z",
          "iopub.status.idle": "2024-10-17T14:29:16.532618Z",
          "shell.execute_reply.started": "2024-10-17T14:29:16.51749Z",
          "shell.execute_reply": "2024-10-17T14:29:16.531137Z"
        },
        "trusted": true,
        "id": "DMqwn9iy6wT9"
      },
      "execution_count": null,
      "outputs": []
    },
    {
      "cell_type": "code",
      "source": [
        "df.info()"
      ],
      "metadata": {
        "execution": {
          "iopub.status.busy": "2024-10-17T14:29:17.386395Z",
          "iopub.execute_input": "2024-10-17T14:29:17.386864Z",
          "iopub.status.idle": "2024-10-17T14:29:17.399918Z",
          "shell.execute_reply.started": "2024-10-17T14:29:17.386821Z",
          "shell.execute_reply": "2024-10-17T14:29:17.398348Z"
        },
        "trusted": true,
        "id": "IaTHkCDN6wT-"
      },
      "execution_count": null,
      "outputs": []
    },
    {
      "cell_type": "code",
      "source": [
        "df.describe()"
      ],
      "metadata": {
        "execution": {
          "iopub.status.busy": "2024-10-17T14:29:18.156704Z",
          "iopub.execute_input": "2024-10-17T14:29:18.157129Z",
          "iopub.status.idle": "2024-10-17T14:29:18.182128Z",
          "shell.execute_reply.started": "2024-10-17T14:29:18.157092Z",
          "shell.execute_reply": "2024-10-17T14:29:18.181021Z"
        },
        "trusted": true,
        "id": "KZO9LPeS6wT-"
      },
      "execution_count": null,
      "outputs": []
    },
    {
      "cell_type": "code",
      "source": [
        "df.isnull().sum()"
      ],
      "metadata": {
        "execution": {
          "iopub.status.busy": "2024-10-17T14:29:18.986044Z",
          "iopub.execute_input": "2024-10-17T14:29:18.986481Z",
          "iopub.status.idle": "2024-10-17T14:29:18.995397Z",
          "shell.execute_reply.started": "2024-10-17T14:29:18.986441Z",
          "shell.execute_reply": "2024-10-17T14:29:18.994206Z"
        },
        "trusted": true,
        "id": "n5NimoGO6wT_"
      },
      "execution_count": null,
      "outputs": []
    },
    {
      "cell_type": "markdown",
      "source": [
        "# Distribution of Features"
      ],
      "metadata": {
        "id": "0ID_1J626wT_"
      }
    },
    {
      "cell_type": "code",
      "source": [
        "\n",
        "# Histograms for each feature\n",
        "df.hist(bins=20, figsize=(10, 8), edgecolor='black')\n",
        "plt.suptitle(\"Distribution of Features\", size=16)\n",
        "plt.show()"
      ],
      "metadata": {
        "execution": {
          "iopub.status.busy": "2024-10-17T14:29:21.130488Z",
          "iopub.execute_input": "2024-10-17T14:29:21.130912Z",
          "iopub.status.idle": "2024-10-17T14:29:22.070954Z",
          "shell.execute_reply.started": "2024-10-17T14:29:21.130873Z",
          "shell.execute_reply": "2024-10-17T14:29:22.069731Z"
        },
        "trusted": true,
        "id": "JvJe57Qk6wUA"
      },
      "execution_count": null,
      "outputs": []
    },
    {
      "cell_type": "code",
      "source": [
        "# Pair plot for all features, colored by species\n",
        "sns.pairplot(df, hue='species', markers=[\"o\", \"s\", \"D\"], palette=\"Set2\")\n",
        "plt.suptitle(\"Pairwise Scatter Plot\", size=16)\n",
        "plt.show()"
      ],
      "metadata": {
        "execution": {
          "iopub.status.busy": "2024-10-17T14:29:23.846278Z",
          "iopub.execute_input": "2024-10-17T14:29:23.846761Z",
          "iopub.status.idle": "2024-10-17T14:29:30.040476Z",
          "shell.execute_reply.started": "2024-10-17T14:29:23.846718Z",
          "shell.execute_reply": "2024-10-17T14:29:30.039025Z"
        },
        "trusted": true,
        "id": "ppl_s22P6wUA"
      },
      "execution_count": null,
      "outputs": []
    },
    {
      "cell_type": "code",
      "source": [
        "df_melted = df.melt(id_vars='species', value_vars=['sepal_length', 'petal_length', 'petal_width'],\n",
        "                           var_name='Feature', value_name='Measurement')\n",
        "plt.figure(figsize=(10, 6))\n",
        "sns.barplot(x='species', y='Measurement', hue='Feature', data=df_melted, palette='Set2')\n",
        "plt.title('Comparison of Sepal Length, Petal Length, and Petal Width Across Species')\n",
        "plt.xlabel('Species')\n",
        "plt.ylabel('Measurement (cm)')\n",
        "plt.legend(title='Features')\n",
        "plt.show()\n"
      ],
      "metadata": {
        "execution": {
          "iopub.status.busy": "2024-10-17T14:29:30.042526Z",
          "iopub.execute_input": "2024-10-17T14:29:30.043422Z",
          "iopub.status.idle": "2024-10-17T14:29:30.569096Z",
          "shell.execute_reply.started": "2024-10-17T14:29:30.043374Z",
          "shell.execute_reply": "2024-10-17T14:29:30.56802Z"
        },
        "trusted": true,
        "id": "OMqUKfya6wUB"
      },
      "execution_count": null,
      "outputs": []
    },
    {
      "cell_type": "markdown",
      "source": [
        "#  Correlation between Features"
      ],
      "metadata": {
        "id": "3y-vuAix6wUB"
      }
    },
    {
      "cell_type": "code",
      "source": [
        "scaler = LabelEncoder()\n",
        "\n",
        "df['species'] = scaler.fit_transform(df['species'])"
      ],
      "metadata": {
        "execution": {
          "iopub.status.busy": "2024-10-17T14:29:32.74645Z",
          "iopub.execute_input": "2024-10-17T14:29:32.746867Z",
          "iopub.status.idle": "2024-10-17T14:29:32.753229Z",
          "shell.execute_reply.started": "2024-10-17T14:29:32.746828Z",
          "shell.execute_reply": "2024-10-17T14:29:32.751742Z"
        },
        "trusted": true,
        "id": "nYDZUcQs6wUB"
      },
      "execution_count": null,
      "outputs": []
    },
    {
      "cell_type": "code",
      "source": [
        "df.corr"
      ],
      "metadata": {
        "execution": {
          "iopub.status.busy": "2024-10-17T14:29:36.186119Z",
          "iopub.execute_input": "2024-10-17T14:29:36.186568Z",
          "iopub.status.idle": "2024-10-17T14:29:36.198809Z",
          "shell.execute_reply.started": "2024-10-17T14:29:36.186529Z",
          "shell.execute_reply": "2024-10-17T14:29:36.197631Z"
        },
        "trusted": true,
        "id": "i3fwXfeo6wUC"
      },
      "execution_count": null,
      "outputs": []
    },
    {
      "cell_type": "code",
      "source": [
        "\n",
        "# Generate a correlation matrix\n",
        "plt.figure(figsize=(8, 6))\n",
        "sns.heatmap(df.corr(), annot=True, cmap='coolwarm', linewidths=0.5)\n",
        "plt.title(\"Correlation Matrix\")\n",
        "plt.show()"
      ],
      "metadata": {
        "execution": {
          "iopub.status.busy": "2024-10-17T14:29:40.758524Z",
          "iopub.execute_input": "2024-10-17T14:29:40.758951Z",
          "iopub.status.idle": "2024-10-17T14:29:41.151606Z",
          "shell.execute_reply.started": "2024-10-17T14:29:40.758904Z",
          "shell.execute_reply": "2024-10-17T14:29:41.150319Z"
        },
        "trusted": true,
        "id": "AvAYGUhx6wUC"
      },
      "execution_count": null,
      "outputs": []
    },
    {
      "cell_type": "markdown",
      "source": [
        "# Preprocess the data"
      ],
      "metadata": {
        "id": "PSqUdjJE6wUC"
      }
    },
    {
      "cell_type": "code",
      "source": [
        "# Define feature columns (all columns except 'species')\n",
        "X = iris_df.drop('species', axis=1)\n",
        "# Target labels (species column)\n",
        "y = iris_df['species']\n",
        "# Initialize the StandardScaler\n",
        "scaler = StandardScaler()\n",
        "# Fit and transform the features\n",
        "X_scaled = scaler.fit_transform(X)"
      ],
      "metadata": {
        "execution": {
          "iopub.status.busy": "2024-10-17T14:31:15.948617Z",
          "iopub.execute_input": "2024-10-17T14:31:15.94911Z",
          "iopub.status.idle": "2024-10-17T14:31:15.963474Z",
          "shell.execute_reply.started": "2024-10-17T14:31:15.949062Z",
          "shell.execute_reply": "2024-10-17T14:31:15.962184Z"
        },
        "trusted": true,
        "id": "KvmxC_g66wUC"
      },
      "execution_count": null,
      "outputs": []
    },
    {
      "cell_type": "code",
      "source": [
        "# Split data into 80% training and 20% testing\n",
        "X_train, X_test, y_train, y_test = train_test_split(X_scaled, y, test_size=0.2, random_state=42)\n",
        "# Check the shapes of the split datasets\n",
        "print(\"X_train shape:\", X_train.shape)\n",
        "print(\"X_test shape:\", X_test.shape)\n",
        "print(\"y_train shape:\", y_train.shape)\n",
        "print(\"y_test shape:\", y_test.shape)\n"
      ],
      "metadata": {
        "execution": {
          "iopub.status.busy": "2024-10-17T14:31:36.468125Z",
          "iopub.execute_input": "2024-10-17T14:31:36.468584Z",
          "iopub.status.idle": "2024-10-17T14:31:36.479209Z",
          "shell.execute_reply.started": "2024-10-17T14:31:36.468545Z",
          "shell.execute_reply": "2024-10-17T14:31:36.477802Z"
        },
        "trusted": true,
        "id": "Fw4WOFQv6wUD"
      },
      "execution_count": null,
      "outputs": []
    },
    {
      "cell_type": "markdown",
      "source": [
        "# Apply K-Nearest Neighbors (KNN) clustering algorithm"
      ],
      "metadata": {
        "id": "kMQ6ve6l6wUD"
      }
    },
    {
      "cell_type": "code",
      "source": [
        "from sklearn.neighbors import KNeighborsClassifier\n",
        "from sklearn.metrics import accuracy_score, confusion_matrix, classification_report\n",
        "# 1. Initialize KNN Classifier\n",
        "knn = KNeighborsClassifier(n_neighbors=3)\n",
        "# 2. Train the KNN model\n",
        "knn.fit(X_train, y_train)\n",
        "# 3. Make predictions on the test data\n",
        "y_pred = knn.predict(X_test)"
      ],
      "metadata": {
        "execution": {
          "iopub.status.busy": "2024-10-17T14:32:40.186448Z",
          "iopub.execute_input": "2024-10-17T14:32:40.186927Z",
          "iopub.status.idle": "2024-10-17T14:32:40.201392Z",
          "shell.execute_reply.started": "2024-10-17T14:32:40.186888Z",
          "shell.execute_reply": "2024-10-17T14:32:40.200225Z"
        },
        "trusted": true,
        "id": "7bgT7-Hh6wUD"
      },
      "execution_count": null,
      "outputs": []
    },
    {
      "cell_type": "code",
      "source": [
        "# Calculate accuracy\n",
        "accuracy = accuracy_score(y_test, y_pred)\n",
        "print(\"Accuracy:\", accuracy)\n",
        "# Confusion Matrix\n",
        "conf_matrix = confusion_matrix(y_test, y_pred)\n",
        "print(\"\\nConfusion Matrix:\\n\", conf_matrix)\n",
        "# Classification Report (includes precision, recall, f1-score)\n",
        "class_report = classification_report(y_test, y_pred, target_names=iris.target_names)\n",
        "print(\"\\nClassification Report:\\n\", class_report)\n"
      ],
      "metadata": {
        "execution": {
          "iopub.status.busy": "2024-10-17T14:33:09.467081Z",
          "iopub.execute_input": "2024-10-17T14:33:09.467557Z",
          "iopub.status.idle": "2024-10-17T14:33:09.488882Z",
          "shell.execute_reply.started": "2024-10-17T14:33:09.467513Z",
          "shell.execute_reply": "2024-10-17T14:33:09.487558Z"
        },
        "trusted": true,
        "id": "eIcwP0hU6wUD"
      },
      "execution_count": null,
      "outputs": []
    },
    {
      "cell_type": "markdown",
      "source": [
        "# Evaluate performance using silhouette scores and visualize the clusters"
      ],
      "metadata": {
        "id": "2UwNq9iE6wUE"
      }
    },
    {
      "cell_type": "code",
      "source": [
        "from sklearn.cluster import KMeans\n",
        "from sklearn.metrics import silhouette_score\n",
        "# 1. Apply K-Means Clustering\n",
        "# We'll use 3 clusters since the Iris dataset has 3 species\n",
        "kmeans = KMeans(n_clusters=3, random_state=42)\n",
        "kmeans.fit(X_scaled)\n",
        "# Cluster assignments\n",
        "clusters = kmeans.labels_\n",
        "# 2. Compute Silhouette Score\n",
        "silhouette_avg = silhouette_score(X_scaled, clusters)\n",
        "print(\"Silhouette Score for K-Means Clustering:\", silhouette_avg)"
      ],
      "metadata": {
        "execution": {
          "iopub.status.busy": "2024-10-17T14:33:54.152394Z",
          "iopub.execute_input": "2024-10-17T14:33:54.152815Z",
          "iopub.status.idle": "2024-10-17T14:33:54.223326Z",
          "shell.execute_reply.started": "2024-10-17T14:33:54.15278Z",
          "shell.execute_reply": "2024-10-17T14:33:54.221913Z"
        },
        "trusted": true,
        "id": "gBSyNJa66wUE"
      },
      "execution_count": null,
      "outputs": []
    },
    {
      "cell_type": "code",
      "source": [
        "from sklearn.decomposition import PCA\n",
        "# Reduce the feature space to 2D for visualization\n",
        "pca = PCA(n_components=2)\n",
        "X_pca = pca.fit_transform(X_scaled)\n",
        "# Plotting the clusters\n",
        "plt.figure(figsize=(10, 6))\n",
        "sns.scatterplot(x=X_pca[:, 0], y=X_pca[:, 1], hue=clusters, palette='Set1', s=100, alpha=0.7)\n",
        "plt.title(\"K-Means Clustering of Iris Dataset (PCA 2D Projection)\")\n",
        "plt.xlabel(\"Principal Component 1\")\n",
        "plt.ylabel(\"Principal Component 2\")\n",
        "plt.legend(title=\"Cluster\")\n",
        "plt.show()"
      ],
      "metadata": {
        "execution": {
          "iopub.status.busy": "2024-10-17T14:34:11.586809Z",
          "iopub.execute_input": "2024-10-17T14:34:11.58731Z",
          "iopub.status.idle": "2024-10-17T14:34:11.944679Z",
          "shell.execute_reply.started": "2024-10-17T14:34:11.587268Z",
          "shell.execute_reply": "2024-10-17T14:34:11.943338Z"
        },
        "trusted": true,
        "id": "xa1wcPLb6wUE"
      },
      "execution_count": null,
      "outputs": []
    },
    {
      "cell_type": "code",
      "source": [],
      "metadata": {
        "id": "8tMNuvrP6wUE"
      },
      "execution_count": null,
      "outputs": []
    }
  ]
}