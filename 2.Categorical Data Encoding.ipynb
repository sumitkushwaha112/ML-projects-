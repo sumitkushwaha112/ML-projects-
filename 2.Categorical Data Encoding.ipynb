{
 "cells": [
  {
   "cell_type": "markdown",
   "id": "5f24e1ba",
   "metadata": {
    "papermill": {
     "duration": 0.007152,
     "end_time": "2024-10-17T05:20:51.984857",
     "exception": false,
     "start_time": "2024-10-17T05:20:51.977705",
     "status": "completed"
    },
    "tags": []
   },
   "source": [
    "**For a given set of training data examples stored in a .CSV file, implement and demonstrate the conversion of categorical data to numeric of Tips.csv file using python libraries.\n",
    ".\n",
    "Dataset:** https://www.kaggle.com/datasets/hnazari8665/tipscsv "
   ]
  },
  {
   "cell_type": "markdown",
   "id": "68011720",
   "metadata": {
    "papermill": {
     "duration": 0.006199,
     "end_time": "2024-10-17T05:20:51.997780",
     "exception": false,
     "start_time": "2024-10-17T05:20:51.991581",
     "status": "completed"
    },
    "tags": []
   },
   "source": [
    "# import necessary libraries"
   ]
  },
  {
   "cell_type": "code",
   "execution_count": 1,
   "id": "2c6c40f9",
   "metadata": {
    "execution": {
     "iopub.execute_input": "2024-10-17T05:20:52.013450Z",
     "iopub.status.busy": "2024-10-17T05:20:52.012907Z",
     "iopub.status.idle": "2024-10-17T05:20:54.267325Z",
     "shell.execute_reply": "2024-10-17T05:20:54.265991Z"
    },
    "papermill": {
     "duration": 2.265575,
     "end_time": "2024-10-17T05:20:54.270222",
     "exception": false,
     "start_time": "2024-10-17T05:20:52.004647",
     "status": "completed"
    },
    "tags": []
   },
   "outputs": [],
   "source": [
    "import pandas as pd\n",
    "import numpy as np\n",
    "from sklearn.preprocessing import LabelEncoder, OneHotEncoder"
   ]
  },
  {
   "cell_type": "code",
   "execution_count": 2,
   "id": "034fd532",
   "metadata": {
    "execution": {
     "iopub.execute_input": "2024-10-17T05:20:54.286250Z",
     "iopub.status.busy": "2024-10-17T05:20:54.285655Z",
     "iopub.status.idle": "2024-10-17T05:20:54.326177Z",
     "shell.execute_reply": "2024-10-17T05:20:54.324879Z"
    },
    "papermill": {
     "duration": 0.051855,
     "end_time": "2024-10-17T05:20:54.328944",
     "exception": false,
     "start_time": "2024-10-17T05:20:54.277089",
     "status": "completed"
    },
    "tags": []
   },
   "outputs": [
    {
     "name": "stdout",
     "output_type": "stream",
     "text": [
      "   total_bill   tip     sex smoker  day    time  size  price_per_person  \\\n",
      "0       16.99  1.01  Female     No  Sun  Dinner     2              8.49   \n",
      "1       10.34  1.66    Male     No  Sun  Dinner     3              3.45   \n",
      "2       21.01  3.50    Male     No  Sun  Dinner     3              7.00   \n",
      "3       23.68  3.31    Male     No  Sun  Dinner     2             11.84   \n",
      "4       24.59  3.61  Female     No  Sun  Dinner     4              6.15   \n",
      "\n",
      "           Payer Name         CC Number Payment ID  \n",
      "0  Christy Cunningham  3560325168603410    Sun2959  \n",
      "1      Douglas Tucker  4478071379779230    Sun4608  \n",
      "2      Travis Walters  6011812112971322    Sun4458  \n",
      "3    Nathaniel Harris  4676137647685994    Sun5260  \n",
      "4        Tonya Carter  4832732618637221    Sun2251  \n"
     ]
    }
   ],
   "source": [
    "#load the dataset\n",
    "df=pd.read_csv('/kaggle/input/categorical-data/tips.csv')\n",
    "\n",
    "#display the first few rows of the dataset to understand the structure\n",
    "print(df.head())"
   ]
  },
  {
   "cell_type": "code",
   "execution_count": 3,
   "id": "886690a6",
   "metadata": {
    "execution": {
     "iopub.execute_input": "2024-10-17T05:20:54.344858Z",
     "iopub.status.busy": "2024-10-17T05:20:54.344354Z",
     "iopub.status.idle": "2024-10-17T05:20:54.353617Z",
     "shell.execute_reply": "2024-10-17T05:20:54.352482Z"
    },
    "papermill": {
     "duration": 0.020458,
     "end_time": "2024-10-17T05:20:54.356163",
     "exception": false,
     "start_time": "2024-10-17T05:20:54.335705",
     "status": "completed"
    },
    "tags": []
   },
   "outputs": [
    {
     "data": {
      "text/plain": [
       "(244, 11)"
      ]
     },
     "execution_count": 3,
     "metadata": {},
     "output_type": "execute_result"
    }
   ],
   "source": [
    "df.shape"
   ]
  },
  {
   "cell_type": "code",
   "execution_count": 4,
   "id": "69db0fd6",
   "metadata": {
    "execution": {
     "iopub.execute_input": "2024-10-17T05:20:54.373670Z",
     "iopub.status.busy": "2024-10-17T05:20:54.372519Z",
     "iopub.status.idle": "2024-10-17T05:20:54.410057Z",
     "shell.execute_reply": "2024-10-17T05:20:54.408513Z"
    },
    "papermill": {
     "duration": 0.049303,
     "end_time": "2024-10-17T05:20:54.413164",
     "exception": false,
     "start_time": "2024-10-17T05:20:54.363861",
     "status": "completed"
    },
    "tags": []
   },
   "outputs": [
    {
     "data": {
      "text/html": [
       "<div>\n",
       "<style scoped>\n",
       "    .dataframe tbody tr th:only-of-type {\n",
       "        vertical-align: middle;\n",
       "    }\n",
       "\n",
       "    .dataframe tbody tr th {\n",
       "        vertical-align: top;\n",
       "    }\n",
       "\n",
       "    .dataframe thead th {\n",
       "        text-align: right;\n",
       "    }\n",
       "</style>\n",
       "<table border=\"1\" class=\"dataframe\">\n",
       "  <thead>\n",
       "    <tr style=\"text-align: right;\">\n",
       "      <th></th>\n",
       "      <th>total_bill</th>\n",
       "      <th>tip</th>\n",
       "      <th>size</th>\n",
       "      <th>price_per_person</th>\n",
       "      <th>CC Number</th>\n",
       "    </tr>\n",
       "  </thead>\n",
       "  <tbody>\n",
       "    <tr>\n",
       "      <th>count</th>\n",
       "      <td>244.000000</td>\n",
       "      <td>244.000000</td>\n",
       "      <td>244.000000</td>\n",
       "      <td>244.000000</td>\n",
       "      <td>2.440000e+02</td>\n",
       "    </tr>\n",
       "    <tr>\n",
       "      <th>mean</th>\n",
       "      <td>19.785943</td>\n",
       "      <td>2.998279</td>\n",
       "      <td>2.569672</td>\n",
       "      <td>7.888197</td>\n",
       "      <td>2.563496e+15</td>\n",
       "    </tr>\n",
       "    <tr>\n",
       "      <th>std</th>\n",
       "      <td>8.902412</td>\n",
       "      <td>1.383638</td>\n",
       "      <td>0.951100</td>\n",
       "      <td>2.914234</td>\n",
       "      <td>2.369340e+15</td>\n",
       "    </tr>\n",
       "    <tr>\n",
       "      <th>min</th>\n",
       "      <td>3.070000</td>\n",
       "      <td>1.000000</td>\n",
       "      <td>1.000000</td>\n",
       "      <td>2.880000</td>\n",
       "      <td>6.040679e+10</td>\n",
       "    </tr>\n",
       "    <tr>\n",
       "      <th>25%</th>\n",
       "      <td>13.347500</td>\n",
       "      <td>2.000000</td>\n",
       "      <td>2.000000</td>\n",
       "      <td>5.800000</td>\n",
       "      <td>3.040731e+13</td>\n",
       "    </tr>\n",
       "    <tr>\n",
       "      <th>50%</th>\n",
       "      <td>17.795000</td>\n",
       "      <td>2.900000</td>\n",
       "      <td>2.000000</td>\n",
       "      <td>7.255000</td>\n",
       "      <td>3.525318e+15</td>\n",
       "    </tr>\n",
       "    <tr>\n",
       "      <th>75%</th>\n",
       "      <td>24.127500</td>\n",
       "      <td>3.562500</td>\n",
       "      <td>3.000000</td>\n",
       "      <td>9.390000</td>\n",
       "      <td>4.553675e+15</td>\n",
       "    </tr>\n",
       "    <tr>\n",
       "      <th>max</th>\n",
       "      <td>50.810000</td>\n",
       "      <td>10.000000</td>\n",
       "      <td>6.000000</td>\n",
       "      <td>20.270000</td>\n",
       "      <td>6.596454e+15</td>\n",
       "    </tr>\n",
       "  </tbody>\n",
       "</table>\n",
       "</div>"
      ],
      "text/plain": [
       "       total_bill         tip        size  price_per_person     CC Number\n",
       "count  244.000000  244.000000  244.000000        244.000000  2.440000e+02\n",
       "mean    19.785943    2.998279    2.569672          7.888197  2.563496e+15\n",
       "std      8.902412    1.383638    0.951100          2.914234  2.369340e+15\n",
       "min      3.070000    1.000000    1.000000          2.880000  6.040679e+10\n",
       "25%     13.347500    2.000000    2.000000          5.800000  3.040731e+13\n",
       "50%     17.795000    2.900000    2.000000          7.255000  3.525318e+15\n",
       "75%     24.127500    3.562500    3.000000          9.390000  4.553675e+15\n",
       "max     50.810000   10.000000    6.000000         20.270000  6.596454e+15"
      ]
     },
     "execution_count": 4,
     "metadata": {},
     "output_type": "execute_result"
    }
   ],
   "source": [
    "df.describe()"
   ]
  },
  {
   "cell_type": "code",
   "execution_count": 5,
   "id": "73a3b5d4",
   "metadata": {
    "execution": {
     "iopub.execute_input": "2024-10-17T05:20:54.430874Z",
     "iopub.status.busy": "2024-10-17T05:20:54.430395Z",
     "iopub.status.idle": "2024-10-17T05:20:54.456020Z",
     "shell.execute_reply": "2024-10-17T05:20:54.454888Z"
    },
    "papermill": {
     "duration": 0.037412,
     "end_time": "2024-10-17T05:20:54.458646",
     "exception": false,
     "start_time": "2024-10-17T05:20:54.421234",
     "status": "completed"
    },
    "tags": []
   },
   "outputs": [
    {
     "data": {
      "text/html": [
       "<div>\n",
       "<style scoped>\n",
       "    .dataframe tbody tr th:only-of-type {\n",
       "        vertical-align: middle;\n",
       "    }\n",
       "\n",
       "    .dataframe tbody tr th {\n",
       "        vertical-align: top;\n",
       "    }\n",
       "\n",
       "    .dataframe thead th {\n",
       "        text-align: right;\n",
       "    }\n",
       "</style>\n",
       "<table border=\"1\" class=\"dataframe\">\n",
       "  <thead>\n",
       "    <tr style=\"text-align: right;\">\n",
       "      <th></th>\n",
       "      <th>total_bill</th>\n",
       "      <th>tip</th>\n",
       "      <th>sex</th>\n",
       "      <th>smoker</th>\n",
       "      <th>day</th>\n",
       "      <th>time</th>\n",
       "      <th>size</th>\n",
       "      <th>price_per_person</th>\n",
       "      <th>Payer Name</th>\n",
       "      <th>CC Number</th>\n",
       "      <th>Payment ID</th>\n",
       "    </tr>\n",
       "  </thead>\n",
       "  <tbody>\n",
       "    <tr>\n",
       "      <th>0</th>\n",
       "      <td>False</td>\n",
       "      <td>False</td>\n",
       "      <td>False</td>\n",
       "      <td>False</td>\n",
       "      <td>False</td>\n",
       "      <td>False</td>\n",
       "      <td>False</td>\n",
       "      <td>False</td>\n",
       "      <td>False</td>\n",
       "      <td>False</td>\n",
       "      <td>False</td>\n",
       "    </tr>\n",
       "    <tr>\n",
       "      <th>1</th>\n",
       "      <td>False</td>\n",
       "      <td>False</td>\n",
       "      <td>False</td>\n",
       "      <td>False</td>\n",
       "      <td>False</td>\n",
       "      <td>False</td>\n",
       "      <td>False</td>\n",
       "      <td>False</td>\n",
       "      <td>False</td>\n",
       "      <td>False</td>\n",
       "      <td>False</td>\n",
       "    </tr>\n",
       "    <tr>\n",
       "      <th>2</th>\n",
       "      <td>False</td>\n",
       "      <td>False</td>\n",
       "      <td>False</td>\n",
       "      <td>False</td>\n",
       "      <td>False</td>\n",
       "      <td>False</td>\n",
       "      <td>False</td>\n",
       "      <td>False</td>\n",
       "      <td>False</td>\n",
       "      <td>False</td>\n",
       "      <td>False</td>\n",
       "    </tr>\n",
       "    <tr>\n",
       "      <th>3</th>\n",
       "      <td>False</td>\n",
       "      <td>False</td>\n",
       "      <td>False</td>\n",
       "      <td>False</td>\n",
       "      <td>False</td>\n",
       "      <td>False</td>\n",
       "      <td>False</td>\n",
       "      <td>False</td>\n",
       "      <td>False</td>\n",
       "      <td>False</td>\n",
       "      <td>False</td>\n",
       "    </tr>\n",
       "    <tr>\n",
       "      <th>4</th>\n",
       "      <td>False</td>\n",
       "      <td>False</td>\n",
       "      <td>False</td>\n",
       "      <td>False</td>\n",
       "      <td>False</td>\n",
       "      <td>False</td>\n",
       "      <td>False</td>\n",
       "      <td>False</td>\n",
       "      <td>False</td>\n",
       "      <td>False</td>\n",
       "      <td>False</td>\n",
       "    </tr>\n",
       "    <tr>\n",
       "      <th>...</th>\n",
       "      <td>...</td>\n",
       "      <td>...</td>\n",
       "      <td>...</td>\n",
       "      <td>...</td>\n",
       "      <td>...</td>\n",
       "      <td>...</td>\n",
       "      <td>...</td>\n",
       "      <td>...</td>\n",
       "      <td>...</td>\n",
       "      <td>...</td>\n",
       "      <td>...</td>\n",
       "    </tr>\n",
       "    <tr>\n",
       "      <th>239</th>\n",
       "      <td>False</td>\n",
       "      <td>False</td>\n",
       "      <td>False</td>\n",
       "      <td>False</td>\n",
       "      <td>False</td>\n",
       "      <td>False</td>\n",
       "      <td>False</td>\n",
       "      <td>False</td>\n",
       "      <td>False</td>\n",
       "      <td>False</td>\n",
       "      <td>False</td>\n",
       "    </tr>\n",
       "    <tr>\n",
       "      <th>240</th>\n",
       "      <td>False</td>\n",
       "      <td>False</td>\n",
       "      <td>False</td>\n",
       "      <td>False</td>\n",
       "      <td>False</td>\n",
       "      <td>False</td>\n",
       "      <td>False</td>\n",
       "      <td>False</td>\n",
       "      <td>False</td>\n",
       "      <td>False</td>\n",
       "      <td>False</td>\n",
       "    </tr>\n",
       "    <tr>\n",
       "      <th>241</th>\n",
       "      <td>False</td>\n",
       "      <td>False</td>\n",
       "      <td>False</td>\n",
       "      <td>False</td>\n",
       "      <td>False</td>\n",
       "      <td>False</td>\n",
       "      <td>False</td>\n",
       "      <td>False</td>\n",
       "      <td>False</td>\n",
       "      <td>False</td>\n",
       "      <td>False</td>\n",
       "    </tr>\n",
       "    <tr>\n",
       "      <th>242</th>\n",
       "      <td>False</td>\n",
       "      <td>False</td>\n",
       "      <td>False</td>\n",
       "      <td>False</td>\n",
       "      <td>False</td>\n",
       "      <td>False</td>\n",
       "      <td>False</td>\n",
       "      <td>False</td>\n",
       "      <td>False</td>\n",
       "      <td>False</td>\n",
       "      <td>False</td>\n",
       "    </tr>\n",
       "    <tr>\n",
       "      <th>243</th>\n",
       "      <td>False</td>\n",
       "      <td>False</td>\n",
       "      <td>False</td>\n",
       "      <td>False</td>\n",
       "      <td>False</td>\n",
       "      <td>False</td>\n",
       "      <td>False</td>\n",
       "      <td>False</td>\n",
       "      <td>False</td>\n",
       "      <td>False</td>\n",
       "      <td>False</td>\n",
       "    </tr>\n",
       "  </tbody>\n",
       "</table>\n",
       "<p>244 rows × 11 columns</p>\n",
       "</div>"
      ],
      "text/plain": [
       "     total_bill    tip    sex  smoker    day   time   size  price_per_person  \\\n",
       "0         False  False  False   False  False  False  False             False   \n",
       "1         False  False  False   False  False  False  False             False   \n",
       "2         False  False  False   False  False  False  False             False   \n",
       "3         False  False  False   False  False  False  False             False   \n",
       "4         False  False  False   False  False  False  False             False   \n",
       "..          ...    ...    ...     ...    ...    ...    ...               ...   \n",
       "239       False  False  False   False  False  False  False             False   \n",
       "240       False  False  False   False  False  False  False             False   \n",
       "241       False  False  False   False  False  False  False             False   \n",
       "242       False  False  False   False  False  False  False             False   \n",
       "243       False  False  False   False  False  False  False             False   \n",
       "\n",
       "     Payer Name  CC Number  Payment ID  \n",
       "0         False      False       False  \n",
       "1         False      False       False  \n",
       "2         False      False       False  \n",
       "3         False      False       False  \n",
       "4         False      False       False  \n",
       "..          ...        ...         ...  \n",
       "239       False      False       False  \n",
       "240       False      False       False  \n",
       "241       False      False       False  \n",
       "242       False      False       False  \n",
       "243       False      False       False  \n",
       "\n",
       "[244 rows x 11 columns]"
      ]
     },
     "execution_count": 5,
     "metadata": {},
     "output_type": "execute_result"
    }
   ],
   "source": [
    "df.isnull()"
   ]
  },
  {
   "cell_type": "code",
   "execution_count": 6,
   "id": "8244c603",
   "metadata": {
    "execution": {
     "iopub.execute_input": "2024-10-17T05:20:54.477277Z",
     "iopub.status.busy": "2024-10-17T05:20:54.476838Z",
     "iopub.status.idle": "2024-10-17T05:20:54.486538Z",
     "shell.execute_reply": "2024-10-17T05:20:54.485404Z"
    },
    "papermill": {
     "duration": 0.021892,
     "end_time": "2024-10-17T05:20:54.489070",
     "exception": false,
     "start_time": "2024-10-17T05:20:54.467178",
     "status": "completed"
    },
    "tags": []
   },
   "outputs": [
    {
     "data": {
      "text/plain": [
       "total_bill          0\n",
       "tip                 0\n",
       "sex                 0\n",
       "smoker              0\n",
       "day                 0\n",
       "time                0\n",
       "size                0\n",
       "price_per_person    0\n",
       "Payer Name          0\n",
       "CC Number           0\n",
       "Payment ID          0\n",
       "dtype: int64"
      ]
     },
     "execution_count": 6,
     "metadata": {},
     "output_type": "execute_result"
    }
   ],
   "source": [
    "df.isnull().sum()"
   ]
  },
  {
   "cell_type": "code",
   "execution_count": 7,
   "id": "04c1d43c",
   "metadata": {
    "execution": {
     "iopub.execute_input": "2024-10-17T05:20:54.507448Z",
     "iopub.status.busy": "2024-10-17T05:20:54.506616Z",
     "iopub.status.idle": "2024-10-17T05:20:54.528221Z",
     "shell.execute_reply": "2024-10-17T05:20:54.526887Z"
    },
    "papermill": {
     "duration": 0.0343,
     "end_time": "2024-10-17T05:20:54.531385",
     "exception": false,
     "start_time": "2024-10-17T05:20:54.497085",
     "status": "completed"
    },
    "tags": []
   },
   "outputs": [
    {
     "name": "stdout",
     "output_type": "stream",
     "text": [
      "<class 'pandas.core.frame.DataFrame'>\n",
      "RangeIndex: 244 entries, 0 to 243\n",
      "Data columns (total 11 columns):\n",
      " #   Column            Non-Null Count  Dtype  \n",
      "---  ------            --------------  -----  \n",
      " 0   total_bill        244 non-null    float64\n",
      " 1   tip               244 non-null    float64\n",
      " 2   sex               244 non-null    object \n",
      " 3   smoker            244 non-null    object \n",
      " 4   day               244 non-null    object \n",
      " 5   time              244 non-null    object \n",
      " 6   size              244 non-null    int64  \n",
      " 7   price_per_person  244 non-null    float64\n",
      " 8   Payer Name        244 non-null    object \n",
      " 9   CC Number         244 non-null    int64  \n",
      " 10  Payment ID        244 non-null    object \n",
      "dtypes: float64(3), int64(2), object(6)\n",
      "memory usage: 21.1+ KB\n"
     ]
    }
   ],
   "source": [
    "df.info()"
   ]
  },
  {
   "cell_type": "code",
   "execution_count": 8,
   "id": "7581757d",
   "metadata": {
    "execution": {
     "iopub.execute_input": "2024-10-17T05:20:54.549881Z",
     "iopub.status.busy": "2024-10-17T05:20:54.549377Z",
     "iopub.status.idle": "2024-10-17T05:20:54.570188Z",
     "shell.execute_reply": "2024-10-17T05:20:54.568881Z"
    },
    "papermill": {
     "duration": 0.033269,
     "end_time": "2024-10-17T05:20:54.572915",
     "exception": false,
     "start_time": "2024-10-17T05:20:54.539646",
     "status": "completed"
    },
    "tags": []
   },
   "outputs": [
    {
     "data": {
      "text/html": [
       "<div>\n",
       "<style scoped>\n",
       "    .dataframe tbody tr th:only-of-type {\n",
       "        vertical-align: middle;\n",
       "    }\n",
       "\n",
       "    .dataframe tbody tr th {\n",
       "        vertical-align: top;\n",
       "    }\n",
       "\n",
       "    .dataframe thead th {\n",
       "        text-align: right;\n",
       "    }\n",
       "</style>\n",
       "<table border=\"1\" class=\"dataframe\">\n",
       "  <thead>\n",
       "    <tr style=\"text-align: right;\">\n",
       "      <th></th>\n",
       "      <th>total_bill</th>\n",
       "      <th>tip</th>\n",
       "      <th>sex</th>\n",
       "      <th>smoker</th>\n",
       "      <th>day</th>\n",
       "      <th>time</th>\n",
       "      <th>size</th>\n",
       "      <th>price_per_person</th>\n",
       "      <th>Payer Name</th>\n",
       "      <th>CC Number</th>\n",
       "      <th>Payment ID</th>\n",
       "    </tr>\n",
       "  </thead>\n",
       "  <tbody>\n",
       "    <tr>\n",
       "      <th>0</th>\n",
       "      <td>16.99</td>\n",
       "      <td>1.01</td>\n",
       "      <td>Female</td>\n",
       "      <td>No</td>\n",
       "      <td>Sun</td>\n",
       "      <td>Dinner</td>\n",
       "      <td>2</td>\n",
       "      <td>8.49</td>\n",
       "      <td>Christy Cunningham</td>\n",
       "      <td>3560325168603410</td>\n",
       "      <td>Sun2959</td>\n",
       "    </tr>\n",
       "    <tr>\n",
       "      <th>1</th>\n",
       "      <td>10.34</td>\n",
       "      <td>1.66</td>\n",
       "      <td>Male</td>\n",
       "      <td>No</td>\n",
       "      <td>Sun</td>\n",
       "      <td>Dinner</td>\n",
       "      <td>3</td>\n",
       "      <td>3.45</td>\n",
       "      <td>Douglas Tucker</td>\n",
       "      <td>4478071379779230</td>\n",
       "      <td>Sun4608</td>\n",
       "    </tr>\n",
       "    <tr>\n",
       "      <th>2</th>\n",
       "      <td>21.01</td>\n",
       "      <td>3.50</td>\n",
       "      <td>Male</td>\n",
       "      <td>No</td>\n",
       "      <td>Sun</td>\n",
       "      <td>Dinner</td>\n",
       "      <td>3</td>\n",
       "      <td>7.00</td>\n",
       "      <td>Travis Walters</td>\n",
       "      <td>6011812112971322</td>\n",
       "      <td>Sun4458</td>\n",
       "    </tr>\n",
       "    <tr>\n",
       "      <th>3</th>\n",
       "      <td>23.68</td>\n",
       "      <td>3.31</td>\n",
       "      <td>Male</td>\n",
       "      <td>No</td>\n",
       "      <td>Sun</td>\n",
       "      <td>Dinner</td>\n",
       "      <td>2</td>\n",
       "      <td>11.84</td>\n",
       "      <td>Nathaniel Harris</td>\n",
       "      <td>4676137647685994</td>\n",
       "      <td>Sun5260</td>\n",
       "    </tr>\n",
       "    <tr>\n",
       "      <th>4</th>\n",
       "      <td>24.59</td>\n",
       "      <td>3.61</td>\n",
       "      <td>Female</td>\n",
       "      <td>No</td>\n",
       "      <td>Sun</td>\n",
       "      <td>Dinner</td>\n",
       "      <td>4</td>\n",
       "      <td>6.15</td>\n",
       "      <td>Tonya Carter</td>\n",
       "      <td>4832732618637221</td>\n",
       "      <td>Sun2251</td>\n",
       "    </tr>\n",
       "  </tbody>\n",
       "</table>\n",
       "</div>"
      ],
      "text/plain": [
       "   total_bill   tip     sex smoker  day    time  size  price_per_person  \\\n",
       "0       16.99  1.01  Female     No  Sun  Dinner     2              8.49   \n",
       "1       10.34  1.66    Male     No  Sun  Dinner     3              3.45   \n",
       "2       21.01  3.50    Male     No  Sun  Dinner     3              7.00   \n",
       "3       23.68  3.31    Male     No  Sun  Dinner     2             11.84   \n",
       "4       24.59  3.61  Female     No  Sun  Dinner     4              6.15   \n",
       "\n",
       "           Payer Name         CC Number Payment ID  \n",
       "0  Christy Cunningham  3560325168603410    Sun2959  \n",
       "1      Douglas Tucker  4478071379779230    Sun4608  \n",
       "2      Travis Walters  6011812112971322    Sun4458  \n",
       "3    Nathaniel Harris  4676137647685994    Sun5260  \n",
       "4        Tonya Carter  4832732618637221    Sun2251  "
      ]
     },
     "execution_count": 8,
     "metadata": {},
     "output_type": "execute_result"
    }
   ],
   "source": [
    "df.head()"
   ]
  },
  {
   "cell_type": "code",
   "execution_count": 9,
   "id": "d6e86279",
   "metadata": {
    "execution": {
     "iopub.execute_input": "2024-10-17T05:20:54.592031Z",
     "iopub.status.busy": "2024-10-17T05:20:54.591502Z",
     "iopub.status.idle": "2024-10-17T05:20:54.612098Z",
     "shell.execute_reply": "2024-10-17T05:20:54.610889Z"
    },
    "papermill": {
     "duration": 0.03335,
     "end_time": "2024-10-17T05:20:54.614720",
     "exception": false,
     "start_time": "2024-10-17T05:20:54.581370",
     "status": "completed"
    },
    "tags": []
   },
   "outputs": [
    {
     "data": {
      "text/html": [
       "<div>\n",
       "<style scoped>\n",
       "    .dataframe tbody tr th:only-of-type {\n",
       "        vertical-align: middle;\n",
       "    }\n",
       "\n",
       "    .dataframe tbody tr th {\n",
       "        vertical-align: top;\n",
       "    }\n",
       "\n",
       "    .dataframe thead th {\n",
       "        text-align: right;\n",
       "    }\n",
       "</style>\n",
       "<table border=\"1\" class=\"dataframe\">\n",
       "  <thead>\n",
       "    <tr style=\"text-align: right;\">\n",
       "      <th></th>\n",
       "      <th>total_bill</th>\n",
       "      <th>tip</th>\n",
       "      <th>sex</th>\n",
       "      <th>smoker</th>\n",
       "      <th>day</th>\n",
       "      <th>time</th>\n",
       "      <th>size</th>\n",
       "      <th>price_per_person</th>\n",
       "      <th>Payer Name</th>\n",
       "      <th>CC Number</th>\n",
       "      <th>Payment ID</th>\n",
       "    </tr>\n",
       "  </thead>\n",
       "  <tbody>\n",
       "    <tr>\n",
       "      <th>239</th>\n",
       "      <td>29.03</td>\n",
       "      <td>5.92</td>\n",
       "      <td>Male</td>\n",
       "      <td>No</td>\n",
       "      <td>Sat</td>\n",
       "      <td>Dinner</td>\n",
       "      <td>3</td>\n",
       "      <td>9.68</td>\n",
       "      <td>Michael Avila</td>\n",
       "      <td>5296068606052842</td>\n",
       "      <td>Sat2657</td>\n",
       "    </tr>\n",
       "    <tr>\n",
       "      <th>240</th>\n",
       "      <td>27.18</td>\n",
       "      <td>2.00</td>\n",
       "      <td>Female</td>\n",
       "      <td>Yes</td>\n",
       "      <td>Sat</td>\n",
       "      <td>Dinner</td>\n",
       "      <td>2</td>\n",
       "      <td>13.59</td>\n",
       "      <td>Monica Sanders</td>\n",
       "      <td>3506806155565404</td>\n",
       "      <td>Sat1766</td>\n",
       "    </tr>\n",
       "    <tr>\n",
       "      <th>241</th>\n",
       "      <td>22.67</td>\n",
       "      <td>2.00</td>\n",
       "      <td>Male</td>\n",
       "      <td>Yes</td>\n",
       "      <td>Sat</td>\n",
       "      <td>Dinner</td>\n",
       "      <td>2</td>\n",
       "      <td>11.34</td>\n",
       "      <td>Keith Wong</td>\n",
       "      <td>6011891618747196</td>\n",
       "      <td>Sat3880</td>\n",
       "    </tr>\n",
       "    <tr>\n",
       "      <th>242</th>\n",
       "      <td>17.82</td>\n",
       "      <td>1.75</td>\n",
       "      <td>Male</td>\n",
       "      <td>No</td>\n",
       "      <td>Sat</td>\n",
       "      <td>Dinner</td>\n",
       "      <td>2</td>\n",
       "      <td>8.91</td>\n",
       "      <td>Dennis Dixon</td>\n",
       "      <td>4375220550950</td>\n",
       "      <td>Sat17</td>\n",
       "    </tr>\n",
       "    <tr>\n",
       "      <th>243</th>\n",
       "      <td>18.78</td>\n",
       "      <td>3.00</td>\n",
       "      <td>Female</td>\n",
       "      <td>No</td>\n",
       "      <td>Thur</td>\n",
       "      <td>Dinner</td>\n",
       "      <td>2</td>\n",
       "      <td>9.39</td>\n",
       "      <td>Michelle Hardin</td>\n",
       "      <td>3511451626698139</td>\n",
       "      <td>Thur672</td>\n",
       "    </tr>\n",
       "  </tbody>\n",
       "</table>\n",
       "</div>"
      ],
      "text/plain": [
       "     total_bill   tip     sex smoker   day    time  size  price_per_person  \\\n",
       "239       29.03  5.92    Male     No   Sat  Dinner     3              9.68   \n",
       "240       27.18  2.00  Female    Yes   Sat  Dinner     2             13.59   \n",
       "241       22.67  2.00    Male    Yes   Sat  Dinner     2             11.34   \n",
       "242       17.82  1.75    Male     No   Sat  Dinner     2              8.91   \n",
       "243       18.78  3.00  Female     No  Thur  Dinner     2              9.39   \n",
       "\n",
       "          Payer Name         CC Number Payment ID  \n",
       "239    Michael Avila  5296068606052842    Sat2657  \n",
       "240   Monica Sanders  3506806155565404    Sat1766  \n",
       "241       Keith Wong  6011891618747196    Sat3880  \n",
       "242     Dennis Dixon     4375220550950      Sat17  \n",
       "243  Michelle Hardin  3511451626698139    Thur672  "
      ]
     },
     "execution_count": 9,
     "metadata": {},
     "output_type": "execute_result"
    }
   ],
   "source": [
    "df.tail()"
   ]
  },
  {
   "cell_type": "markdown",
   "id": "d1934394",
   "metadata": {
    "papermill": {
     "duration": 0.008442,
     "end_time": "2024-10-17T05:20:54.632011",
     "exception": false,
     "start_time": "2024-10-17T05:20:54.623569",
     "status": "completed"
    },
    "tags": []
   },
   "source": [
    "# Identify Categorical Columns"
   ]
  },
  {
   "cell_type": "code",
   "execution_count": 10,
   "id": "487f2372",
   "metadata": {
    "execution": {
     "iopub.execute_input": "2024-10-17T05:20:54.651004Z",
     "iopub.status.busy": "2024-10-17T05:20:54.650561Z",
     "iopub.status.idle": "2024-10-17T05:20:54.658769Z",
     "shell.execute_reply": "2024-10-17T05:20:54.657393Z"
    },
    "papermill": {
     "duration": 0.021568,
     "end_time": "2024-10-17T05:20:54.662119",
     "exception": false,
     "start_time": "2024-10-17T05:20:54.640551",
     "status": "completed"
    },
    "tags": []
   },
   "outputs": [
    {
     "name": "stdout",
     "output_type": "stream",
     "text": [
      "total_bill          float64\n",
      "tip                 float64\n",
      "sex                  object\n",
      "smoker               object\n",
      "day                  object\n",
      "time                 object\n",
      "size                  int64\n",
      "price_per_person    float64\n",
      "Payer Name           object\n",
      "CC Number             int64\n",
      "Payment ID           object\n",
      "dtype: object\n"
     ]
    }
   ],
   "source": [
    "#display column types to find which ones are categorical\n",
    "print(df.dtypes)\n",
    "\n",
    "#alternatively,youcan manually list the column\n",
    "categorical_column = ['sex','smoker','day','time'] #example categorical in tips dataset"
   ]
  },
  {
   "cell_type": "markdown",
   "id": "7aed9959",
   "metadata": {
    "papermill": {
     "duration": 0.008466,
     "end_time": "2024-10-17T05:20:54.679543",
     "exception": false,
     "start_time": "2024-10-17T05:20:54.671077",
     "status": "completed"
    },
    "tags": []
   },
   "source": [
    "# Convert Categorical Data to Numeric"
   ]
  },
  {
   "cell_type": "markdown",
   "id": "d509c81d",
   "metadata": {
    "papermill": {
     "duration": 0.008416,
     "end_time": "2024-10-17T05:20:54.696723",
     "exception": false,
     "start_time": "2024-10-17T05:20:54.688307",
     "status": "completed"
    },
    "tags": []
   },
   "source": [
    "# Label Encoding For Ordinary Categories"
   ]
  },
  {
   "cell_type": "code",
   "execution_count": 11,
   "id": "112a5e5c",
   "metadata": {
    "execution": {
     "iopub.execute_input": "2024-10-17T05:20:54.715738Z",
     "iopub.status.busy": "2024-10-17T05:20:54.715324Z",
     "iopub.status.idle": "2024-10-17T05:20:54.731737Z",
     "shell.execute_reply": "2024-10-17T05:20:54.730392Z"
    },
    "papermill": {
     "duration": 0.029362,
     "end_time": "2024-10-17T05:20:54.734668",
     "exception": false,
     "start_time": "2024-10-17T05:20:54.705306",
     "status": "completed"
    },
    "tags": []
   },
   "outputs": [
    {
     "name": "stdout",
     "output_type": "stream",
     "text": [
      "   total_bill   tip  sex  smoker  day  time  size  price_per_person  \\\n",
      "0       16.99  1.01    0       0    2     0     2              8.49   \n",
      "1       10.34  1.66    1       0    2     0     3              3.45   \n",
      "2       21.01  3.50    1       0    2     0     3              7.00   \n",
      "3       23.68  3.31    1       0    2     0     2             11.84   \n",
      "4       24.59  3.61    0       0    2     0     4              6.15   \n",
      "\n",
      "           Payer Name         CC Number Payment ID  \n",
      "0  Christy Cunningham  3560325168603410    Sun2959  \n",
      "1      Douglas Tucker  4478071379779230    Sun4608  \n",
      "2      Travis Walters  6011812112971322    Sun4458  \n",
      "3    Nathaniel Harris  4676137647685994    Sun5260  \n",
      "4        Tonya Carter  4832732618637221    Sun2251  \n"
     ]
    }
   ],
   "source": [
    "#Apply label encoding\n",
    "label_encoder = LabelEncoder()\n",
    "\n",
    "df['sex'] = label_encoder.fit_transform(df['sex'])\n",
    "df['smoker'] = label_encoder.fit_transform(df['smoker'])\n",
    "df['day'] = label_encoder.fit_transform(df['day'])\n",
    "df['time'] = label_encoder.fit_transform(df['time'])\n",
    "\n",
    "#display the transformed dataframe\n",
    "\n",
    "print(df.head())"
   ]
  },
  {
   "cell_type": "markdown",
   "id": "861ba7da",
   "metadata": {
    "papermill": {
     "duration": 0.008715,
     "end_time": "2024-10-17T05:20:54.752157",
     "exception": false,
     "start_time": "2024-10-17T05:20:54.743442",
     "status": "completed"
    },
    "tags": []
   },
   "source": [
    "# One-Hot Encoding for Nominal  Categorical"
   ]
  },
  {
   "cell_type": "code",
   "execution_count": 12,
   "id": "bb75a34b",
   "metadata": {
    "execution": {
     "iopub.execute_input": "2024-10-17T05:20:54.771227Z",
     "iopub.status.busy": "2024-10-17T05:20:54.770778Z",
     "iopub.status.idle": "2024-10-17T05:20:54.795984Z",
     "shell.execute_reply": "2024-10-17T05:20:54.794346Z"
    },
    "papermill": {
     "duration": 0.037956,
     "end_time": "2024-10-17T05:20:54.798710",
     "exception": false,
     "start_time": "2024-10-17T05:20:54.760754",
     "status": "completed"
    },
    "tags": []
   },
   "outputs": [
    {
     "name": "stdout",
     "output_type": "stream",
     "text": [
      "   total_bill   tip  size  price_per_person          Payer Name  \\\n",
      "0       16.99  1.01     2              8.49  Christy Cunningham   \n",
      "1       10.34  1.66     3              3.45      Douglas Tucker   \n",
      "2       21.01  3.50     3              7.00      Travis Walters   \n",
      "3       23.68  3.31     2             11.84    Nathaniel Harris   \n",
      "4       24.59  3.61     4              6.15        Tonya Carter   \n",
      "\n",
      "          CC Number Payment ID  sex_1  smoker_1  day_1  day_2  day_3  time_1  \n",
      "0  3560325168603410    Sun2959  False     False  False   True  False   False  \n",
      "1  4478071379779230    Sun4608   True     False  False   True  False   False  \n",
      "2  6011812112971322    Sun4458   True     False  False   True  False   False  \n",
      "3  4676137647685994    Sun5260   True     False  False   True  False   False  \n",
      "4  4832732618637221    Sun2251  False     False  False   True  False   False  \n"
     ]
    }
   ],
   "source": [
    "#apply one-hot encoding\n",
    "df_encoded = pd.get_dummies(df, columns=['sex','smoker','day','time'],drop_first=True)\n",
    "\n",
    "#display the transformed dataframe\n",
    "print(df_encoded.head())"
   ]
  },
  {
   "cell_type": "code",
   "execution_count": 13,
   "id": "a8adefc5",
   "metadata": {
    "execution": {
     "iopub.execute_input": "2024-10-17T05:20:54.818521Z",
     "iopub.status.busy": "2024-10-17T05:20:54.818014Z",
     "iopub.status.idle": "2024-10-17T05:20:54.929987Z",
     "shell.execute_reply": "2024-10-17T05:20:54.928637Z"
    },
    "papermill": {
     "duration": 0.125331,
     "end_time": "2024-10-17T05:20:54.932869",
     "exception": false,
     "start_time": "2024-10-17T05:20:54.807538",
     "status": "completed"
    },
    "tags": []
   },
   "outputs": [],
   "source": [
    "from sklearn.model_selection import train_test_split\n",
    "from sklearn.preprocessing import LabelEncoder"
   ]
  },
  {
   "cell_type": "code",
   "execution_count": null,
   "id": "52368f0a",
   "metadata": {
    "papermill": {
     "duration": 0.008438,
     "end_time": "2024-10-17T05:20:54.950516",
     "exception": false,
     "start_time": "2024-10-17T05:20:54.942078",
     "status": "completed"
    },
    "tags": []
   },
   "outputs": [],
   "source": []
  }
 ],
 "metadata": {
  "kaggle": {
   "accelerator": "none",
   "dataSources": [
    {
     "datasetId": 5683711,
     "sourceId": 9371437,
     "sourceType": "datasetVersion"
    }
   ],
   "dockerImageVersionId": 30761,
   "isGpuEnabled": false,
   "isInternetEnabled": false,
   "language": "python",
   "sourceType": "notebook"
  },
  "kernelspec": {
   "display_name": "Python 3",
   "language": "python",
   "name": "python3"
  },
  "language_info": {
   "codemirror_mode": {
    "name": "ipython",
    "version": 3
   },
   "file_extension": ".py",
   "mimetype": "text/x-python",
   "name": "python",
   "nbconvert_exporter": "python",
   "pygments_lexer": "ipython3",
   "version": "3.10.14"
  },
  "papermill": {
   "default_parameters": {},
   "duration": 6.793807,
   "end_time": "2024-10-17T05:20:55.584771",
   "environment_variables": {},
   "exception": null,
   "input_path": "__notebook__.ipynb",
   "output_path": "__notebook__.ipynb",
   "parameters": {},
   "start_time": "2024-10-17T05:20:48.790964",
   "version": "2.6.0"
  }
 },
 "nbformat": 4,
 "nbformat_minor": 5
}
